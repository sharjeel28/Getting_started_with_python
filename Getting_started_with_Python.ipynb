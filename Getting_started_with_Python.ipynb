{
 "cells": [
  {
   "cell_type": "markdown",
   "id": "7a1285ad",
   "metadata": {},
   "source": [
    "## Python - Introduction:\n",
    "\n",
    "- Getting started with Python\n",
    "\n",
    "- Basics"
   ]
  },
  {
   "cell_type": "code",
   "execution_count": 1,
   "id": "bc60deac",
   "metadata": {},
   "outputs": [
    {
     "name": "stdout",
     "output_type": "stream",
     "text": [
      "python_with_Sharjeel\n",
      "5\n",
      "Hello\n",
      "starting_python\n"
     ]
    }
   ],
   "source": [
    "#First code - introduction\n",
    "print(\"python_with_Sharjeel\")\n",
    "print(2+3)\n",
    "print(\"Hello\")\n",
    "print(\"starting_python\")"
   ]
  },
  {
   "cell_type": "code",
   "execution_count": 11,
   "id": "35483824",
   "metadata": {},
   "outputs": [
    {
     "name": "stdout",
     "output_type": "stream",
     "text": [
      "5\n",
      "56\n",
      "18.0\n"
     ]
    }
   ],
   "source": [
    "#Operators\n",
    "print(2+3)\n",
    "print(56)\n",
    "print(32/2*3/3+6-4)\n",
    "\n",
    "#PEMDAS Paranthases exponent multiply divide addition subtration left to rihght seq for m,d and a,s"
   ]
  },
  {
   "cell_type": "code",
   "execution_count": 9,
   "id": "25594ba3",
   "metadata": {},
   "outputs": [
    {
     "name": "stdout",
     "output_type": "stream",
     "text": [
      "no one\n",
      "every one\n",
      "some one\n",
      "what's up\n"
     ]
    }
   ],
   "source": [
    "#Strings\n",
    "print('no one')\n",
    "print(\"every one\")\n",
    "print('''some one''')\n",
    "print(\"what's up\")"
   ]
  },
  {
   "cell_type": "code",
   "execution_count": 10,
   "id": "05101480",
   "metadata": {},
   "outputs": [
    {
     "name": "stdout",
     "output_type": "stream",
     "text": [
      "how are you\n"
     ]
    }
   ],
   "source": [
    "#Comments\n",
    "print(\"how are you\") #press these to comment out (ctrl + /) print(\"we are learning python\") #print a string print(2+6) #print operators functions with number"
   ]
  },
  {
   "cell_type": "code",
   "execution_count": 14,
   "id": "34cdb1f4",
   "metadata": {},
   "outputs": [
    {
     "name": "stdout",
     "output_type": "stream",
     "text": [
      "we are learning python\n",
      "15\n",
      "mangoes, oranges\n",
      "<class 'int'>\n",
      "mangoes\n",
      "mango\n",
      "hello! Sharjeel\n"
     ]
    }
   ],
   "source": [
    "#Variables\n",
    "#Variables: objects containing specific values\n",
    "x = 5 #numeric variables print(x)\n",
    "y=\"we are learning python\"\n",
    "#string variables\n",
    "print(y)\n",
    "x= x+10 #or x=15\n",
    "print(x)\n",
    "\n",
    "#rules to assign variables\n",
    "\n",
    "#1. variables should have letter, numbers or underscopes\n",
    "#2. Donot start with numbers\n",
    "#3. spaces are not allowed\n",
    "#4. donot use functional keywords (mean, median, test etc)\n",
    "#5. short and descriptive\n",
    "#6. case sensitive (lower should be used)\n",
    "fruit_basket=\"mangoes, oranges\"\n",
    "print(fruit_basket)\n",
    "fruit_basket= 8\n",
    "print(type(fruit_basket))\n",
    "\n",
    "#fruit basket\n",
    "#Input Variables\n",
    "fruit_basket=\"mangoes\"\n",
    "print(fruit_basket)\n",
    "\n",
    "#input function\n",
    "\n",
    "fruit_basket=input(\"which is your favourite fruit?\")\n",
    "print(fruit_basket)\n",
    "\n",
    "name= input(\"what is your name? \")\n",
    "greetings=\"hello!\"\n",
    "\n",
    "print(greetings, name)"
   ]
  },
  {
   "cell_type": "code",
   "execution_count": 12,
   "id": "a47b1890",
   "metadata": {},
   "outputs": [
    {
     "name": "stdout",
     "output_type": "stream",
     "text": [
      "hello! Sharjeel\n"
     ]
    }
   ],
   "source": [
    "#another way of doing this\n",
    "name= input(\"what is your name? \")\n",
    "print(\"hello!\", name)"
   ]
  },
  {
   "cell_type": "code",
   "execution_count": 13,
   "id": "915a4ba3",
   "metadata": {},
   "outputs": [
    {
     "name": "stdout",
     "output_type": "stream",
     "text": [
      "hello Sharjeel you are still young\n",
      "Hello! You are welcome\n"
     ]
    }
   ],
   "source": [
    "#3rd stage input function\n",
    "name= input(\"what is your name\")\n",
    "age= input(\"how old are you?\")\n",
    "greetings=(\"hello\")\n",
    "\n",
    "print(greetings, name, \"you are still young\")\n",
    "\n",
    "ID= input(\"what is your ID ?\")\n",
    "Password= input(\"what is you password ?\")\n",
    "greetings=(\"Hello!\")\n",
    "\n",
    "print(greetings, \"You are welcome\")"
   ]
  },
  {
   "cell_type": "code",
   "execution_count": 18,
   "id": "8260ede2",
   "metadata": {},
   "outputs": [
    {
     "name": "stdout",
     "output_type": "stream",
     "text": [
      "True\n",
      "False\n",
      "True\n",
      "True\n",
      "True\n",
      "True\n"
     ]
    }
   ],
   "source": [
    "#Conditional logics\n",
    "#equal to ==\n",
    "#not equal to !=\n",
    "#less than <\n",
    "#greater than >\n",
    "#less than equal to <=\n",
    "##greater than equal to >= #logical operators are either \"true or false\" or \"yes or no\" or \"0 or 1\"\n",
    "\n",
    "#is 4 equal to 4?\n",
    "print(4==4)\n",
    "print(4!=4)\n",
    "print(4>3)\n",
    "print(3<6)\n",
    "print(3<=5)\n",
    "print(5>=4)"
   ]
  },
  {
   "cell_type": "code",
   "execution_count": 16,
   "id": "cdce16ac",
   "metadata": {},
   "outputs": [
    {
     "name": "stdout",
     "output_type": "stream",
     "text": [
      "20.2 type of x is: <class 'float'>\n"
     ]
    }
   ],
   "source": [
    "#Conversion type\n",
    "x= 10.2 #integar\n",
    "y= 10 #float\n",
    "z= \"hello\" #string\n",
    "\n",
    "#implict type\n",
    "\n",
    "x= x+y\n",
    "\n",
    "print(x, \"type of x is:\", type(x))"
   ]
  },
  {
   "cell_type": "code",
   "execution_count": 15,
   "id": "79dab513",
   "metadata": {},
   "outputs": [
    {
     "name": "stdout",
     "output_type": "stream",
     "text": [
      "<class 'int'>\n",
      "False\n"
     ]
    }
   ],
   "source": [
    "#applications of logical operators\n",
    "#hammad_age=4\n",
    "#age_at_shchool=5\n",
    "#print(hammad_age==age_at_shchool)\n",
    "\n",
    "#input functions and logical operators\n",
    "age_at_shchool=5\n",
    "hammad_age=input(\"how old is hammad\")\n",
    "#input functions\n",
    "hammad_age= int(hammad_age)\n",
    "print(type(hammad_age))\n",
    "print(hammad_age==age_at_shchool) #logical operators"
   ]
  },
  {
   "cell_type": "code",
   "execution_count": 17,
   "id": "618fcd5c",
   "metadata": {},
   "outputs": [
    {
     "name": "stdout",
     "output_type": "stream",
     "text": [
      "<class 'int'>\n",
      "25 <class 'int'>\n",
      "25 <class 'float'>\n",
      "Sharjeel <class 'str'>\n"
     ]
    }
   ],
   "source": [
    "#when an integar interact with float, it changes into float\n",
    "\n",
    "#explict type\n",
    "age=input(\"what is age\")\n",
    "age=int(age)\n",
    "print(type(age))\n",
    "\n",
    "#2nd way\n",
    "\n",
    "print(age, type(int(age)))\n",
    "print(age, type(float(age)))\n",
    "\n",
    "name=input(\"what is name\")\n",
    "print(name, type(str(name)))\n"
   ]
  },
  {
   "cell_type": "code",
   "execution_count": 24,
   "id": "31fd436d",
   "metadata": {},
   "outputs": [
    {
     "name": "stdout",
     "output_type": "stream",
     "text": [
      "take care of him\n"
     ]
    }
   ],
   "source": [
    "#If_else_elif\n",
    "req_age_at_school = 5\n",
    "ali_age = 1\n",
    "\n",
    "#can ali go to school\n",
    "if ali_age==req_age_at_school:\n",
    "    print(\"ali can join the school\")\n",
    "elif ali_age > req_age_at_school:\n",
    "        print(\"ali should join school\")\n",
    "elif ali_age <= 2:\n",
    "        print(\"take care of him\")\n",
    "else:\n",
    "    print(\"ali cannot go to school\")\n"
   ]
  },
  {
   "cell_type": "code",
   "execution_count": 20,
   "id": "09ef2c0b",
   "metadata": {},
   "outputs": [],
   "source": [
    "#if, elif else statement clear\n",
    "#Functions\n",
    "#define a functions\n",
    "def print_lapy():\n",
    "    print(\"we are good\")\n",
    "    print(\"we are good\")\n",
    "    print(\"we are good\")\n",
    "    print_lapy()"
   ]
  },
  {
   "cell_type": "code",
   "execution_count": 21,
   "id": "1d1c2bd0",
   "metadata": {},
   "outputs": [
    {
     "name": "stdout",
     "output_type": "stream",
     "text": [
      "we are good\n",
      "we are good\n",
      "we are good\n"
     ]
    }
   ],
   "source": [
    "2\n",
    "def print_lapy():\n",
    "    text = \"we are good\"\n",
    "    print(text)\n",
    "    print(text)\n",
    "    print(text)\n",
    "\n",
    "print_lapy()"
   ]
  },
  {
   "cell_type": "code",
   "execution_count": 22,
   "id": "e50106bc",
   "metadata": {},
   "outputs": [
    {
     "name": "stdout",
     "output_type": "stream",
     "text": [
      "you are good\n",
      "you are good\n",
      "you are good\n"
     ]
    }
   ],
   "source": [
    "#3\n",
    "\n",
    "def print_lapy(text):\n",
    "    print(text)\n",
    "    print(text)\n",
    "    print(text)\n",
    "\n",
    "print_lapy(\"you are good\")"
   ]
  },
  {
   "cell_type": "code",
   "execution_count": 23,
   "id": "133d3a5e",
   "metadata": {},
   "outputs": [
    {
     "name": "stdout",
     "output_type": "stream",
     "text": [
      "ali is too young to school\n"
     ]
    }
   ],
   "source": [
    "#define a function with if, elif and else\n",
    "def school_calculator(age, text):\n",
    "    if age==5:\n",
    "        print(\"ali can go to school\")\n",
    "    elif age>5:\n",
    "        print (\"ali should go to school\")\n",
    "    else:\n",
    "            print(\"ali is too young to school\")\n",
    "\n",
    "school_calculator(2,\"ali\")"
   ]
  },
  {
   "cell_type": "code",
   "execution_count": 30,
   "id": "0240c984",
   "metadata": {},
   "outputs": [
    {
     "name": "stdout",
     "output_type": "stream",
     "text": [
      "4\n",
      "5\n",
      "6\n",
      "7\n",
      "8\n",
      "9\n",
      "the value of pi is 3.141592653589793\n",
      "25\n",
      "we are learning\n",
      "hello name\n",
      "hello ali\n"
     ]
    }
   ],
   "source": [
    "#Loops\n",
    "#while and for loops\n",
    "#while loops\n",
    "\n",
    "#x=0 while (x<=5)\n",
    "#print(x) x=x+1\n",
    "\n",
    "#for loops\n",
    "\n",
    "for x in range(4,10):\n",
    "    print(x)\n",
    "\n",
    "#array\n",
    "days= [\"mon\", \"tue\", \"wed\", \"thur\", \"fri\",\"sat\"]\n",
    "\n",
    "\n",
    "import math\n",
    "print(\"the value of pi is\", math.pi)\n",
    "\n",
    "import statistics\n",
    "\n",
    "x= [10, 20, 30, 40]\n",
    "print(statistics.mean(x))\n",
    "\n",
    "#numpy, pandas\n",
    "\n",
    "#Troubleshooting\n",
    "print(\"we are learning\") #syntax error\n",
    "\n",
    "#print(25/0) # runtime error\n",
    "\n",
    "name= \"ali\"\n",
    "\n",
    "print(\"hello name\") # symantic error\n",
    "\n",
    "print(\"hello\", name) #correction of symantic"
   ]
  },
  {
   "cell_type": "code",
   "execution_count": 31,
   "id": "6d35bbcd",
   "metadata": {},
   "outputs": [
    {
     "data": {
      "text/plain": [
       "'nice'"
      ]
     },
     "execution_count": 31,
     "metadata": {},
     "output_type": "execute_result"
    }
   ],
   "source": [
    "# make a string\n",
    "a = \"nice\"\n",
    "a\n"
   ]
  },
  {
   "cell_type": "code",
   "execution_count": 32,
   "id": "5d19f8e4",
   "metadata": {},
   "outputs": [
    {
     "data": {
      "text/plain": [
       "'nice'"
      ]
     },
     "execution_count": 32,
     "metadata": {},
     "output_type": "execute_result"
    }
   ],
   "source": [
    "a"
   ]
  },
  {
   "cell_type": "code",
   "execution_count": 33,
   "id": "4861630a",
   "metadata": {},
   "outputs": [
    {
     "data": {
      "text/plain": [
       "4"
      ]
     },
     "execution_count": 33,
     "metadata": {},
     "output_type": "execute_result"
    }
   ],
   "source": [
    "# length of indices\n",
    "len(a)"
   ]
  },
  {
   "cell_type": "code",
   "execution_count": 34,
   "id": "1ec769cb",
   "metadata": {},
   "outputs": [
    {
     "data": {
      "text/plain": [
       "'i'"
      ]
     },
     "execution_count": 34,
     "metadata": {},
     "output_type": "execute_result"
    }
   ],
   "source": [
    "a[1]"
   ]
  },
  {
   "cell_type": "code",
   "execution_count": 35,
   "id": "b4c53b66",
   "metadata": {},
   "outputs": [
    {
     "data": {
      "text/plain": [
       "'nic'"
      ]
     },
     "execution_count": 35,
     "metadata": {},
     "output_type": "execute_result"
    }
   ],
   "source": [
    "a[0:3]"
   ]
  },
  {
   "cell_type": "code",
   "execution_count": 36,
   "id": "2e705698",
   "metadata": {},
   "outputs": [
    {
     "data": {
      "text/plain": [
       "'nic'"
      ]
     },
     "execution_count": 36,
     "metadata": {},
     "output_type": "execute_result"
    }
   ],
   "source": [
    "a[-4:-1]"
   ]
  },
  {
   "cell_type": "code",
   "execution_count": 37,
   "id": "5222da5b",
   "metadata": {},
   "outputs": [
    {
     "data": {
      "text/plain": [
       "'biryani'"
      ]
     },
     "execution_count": 37,
     "metadata": {},
     "output_type": "execute_result"
    }
   ],
   "source": [
    "food = \"biryani\"\n",
    "food"
   ]
  },
  {
   "cell_type": "markdown",
   "id": "647df993",
   "metadata": {},
   "source": [
    "String Methods"
   ]
  },
  {
   "cell_type": "code",
   "execution_count": 38,
   "id": "e728ad10",
   "metadata": {},
   "outputs": [
    {
     "data": {
      "text/plain": [
       "'biryani'"
      ]
     },
     "execution_count": 38,
     "metadata": {},
     "output_type": "execute_result"
    }
   ],
   "source": [
    "food"
   ]
  },
  {
   "cell_type": "code",
   "execution_count": 39,
   "id": "2d4eeb2f",
   "metadata": {},
   "outputs": [
    {
     "data": {
      "text/plain": [
       "7"
      ]
     },
     "execution_count": 39,
     "metadata": {},
     "output_type": "execute_result"
    }
   ],
   "source": [
    "len(food)"
   ]
  },
  {
   "cell_type": "code",
   "execution_count": 40,
   "id": "871ff564",
   "metadata": {},
   "outputs": [
    {
     "data": {
      "text/plain": [
       "'Biryani'"
      ]
     },
     "execution_count": 40,
     "metadata": {},
     "output_type": "execute_result"
    }
   ],
   "source": [
    "food.capitalize()"
   ]
  },
  {
   "cell_type": "code",
   "execution_count": 41,
   "id": "3599ed6d",
   "metadata": {},
   "outputs": [
    {
     "data": {
      "text/plain": [
       "'shiryani'"
      ]
     },
     "execution_count": 41,
     "metadata": {},
     "output_type": "execute_result"
    }
   ],
   "source": [
    "food.replace(\"b\",\"sh\")"
   ]
  },
  {
   "cell_type": "code",
   "execution_count": 42,
   "id": "13c9d9df",
   "metadata": {},
   "outputs": [
    {
     "data": {
      "text/plain": [
       "'Sharjeel with python'"
      ]
     },
     "execution_count": 42,
     "metadata": {},
     "output_type": "execute_result"
    }
   ],
   "source": [
    "name  = \"Sharjeel with python\"\n",
    "name"
   ]
  },
  {
   "cell_type": "code",
   "execution_count": 43,
   "id": "8e00df09",
   "metadata": {},
   "outputs": [
    {
     "data": {
      "text/plain": [
       "3"
      ]
     },
     "execution_count": 43,
     "metadata": {},
     "output_type": "execute_result"
    }
   ],
   "source": [
    "name.count(\"h\")"
   ]
  },
  {
   "cell_type": "markdown",
   "id": "10bf4bec",
   "metadata": {},
   "source": [
    "How to split a string"
   ]
  },
  {
   "cell_type": "code",
   "execution_count": 25,
   "id": "cb1013af",
   "metadata": {},
   "outputs": [
    {
     "data": {
      "text/plain": [
       "'I love data, analysis and python'"
      ]
     },
     "execution_count": 25,
     "metadata": {},
     "output_type": "execute_result"
    }
   ],
   "source": [
    "food = \"I love data, analysis and python\"\n",
    "food"
   ]
  },
  {
   "cell_type": "code",
   "execution_count": 26,
   "id": "eb3eca23",
   "metadata": {},
   "outputs": [
    {
     "data": {
      "text/plain": [
       "['I love data', ' analysis and python']"
      ]
     },
     "execution_count": 26,
     "metadata": {},
     "output_type": "execute_result"
    }
   ],
   "source": [
    "food.split(\",\")"
   ]
  },
  {
   "cell_type": "markdown",
   "id": "34914315",
   "metadata": {},
   "source": [
    "Basic Data Structure in Python:\n",
    "\n",
    "1. Tuple\n",
    "\n",
    "2. List\n",
    "\n",
    "3. Dictionaries\n",
    "\n",
    "4. Set¶"
   ]
  },
  {
   "cell_type": "markdown",
   "id": "3d373c7b",
   "metadata": {},
   "source": [
    "## 1. Tuple:\n",
    "\n",
    "- orederd collection of elements\n",
    "\n",
    "- enclosed in ()\n",
    "\n",
    "- different kind of elements can be stored\n",
    "\n",
    "- once elements are stored, you canot change it"
   ]
  },
  {
   "cell_type": "code",
   "execution_count": 46,
   "id": "6dfc2a7e",
   "metadata": {},
   "outputs": [
    {
     "data": {
      "text/plain": [
       "(1, 'python', True, 2.5)"
      ]
     },
     "execution_count": 46,
     "metadata": {},
     "output_type": "execute_result"
    }
   ],
   "source": [
    "tup1 = (1, \"python\", True, 2.5)\n",
    "tup1"
   ]
  },
  {
   "cell_type": "code",
   "execution_count": 47,
   "id": "62a4958d",
   "metadata": {},
   "outputs": [
    {
     "data": {
      "text/plain": [
       "tuple"
      ]
     },
     "execution_count": 47,
     "metadata": {},
     "output_type": "execute_result"
    }
   ],
   "source": [
    "# types of tuple\n",
    "type(tup1)"
   ]
  },
  {
   "cell_type": "markdown",
   "id": "a2e2689c",
   "metadata": {},
   "source": [
    "- Indexing in tuple"
   ]
  },
  {
   "cell_type": "code",
   "execution_count": 48,
   "id": "2bbf8299",
   "metadata": {},
   "outputs": [
    {
     "data": {
      "text/plain": [
       "'python'"
      ]
     },
     "execution_count": 48,
     "metadata": {},
     "output_type": "execute_result"
    }
   ],
   "source": [
    "tup1[1]"
   ]
  },
  {
   "cell_type": "code",
   "execution_count": 49,
   "id": "b43d1fe7",
   "metadata": {},
   "outputs": [
    {
     "data": {
      "text/plain": [
       "(1, 'python', True)"
      ]
     },
     "execution_count": 49,
     "metadata": {},
     "output_type": "execute_result"
    }
   ],
   "source": [
    "# last element is exclusive\n",
    "tup1[0:3]"
   ]
  },
  {
   "cell_type": "code",
   "execution_count": 50,
   "id": "b6ef8877",
   "metadata": {},
   "outputs": [
    {
     "data": {
      "text/plain": [
       "4"
      ]
     },
     "execution_count": 50,
     "metadata": {},
     "output_type": "execute_result"
    }
   ],
   "source": [
    "len(tup1)"
   ]
  },
  {
   "cell_type": "code",
   "execution_count": 51,
   "id": "0c4fe11d",
   "metadata": {},
   "outputs": [
    {
     "data": {
      "text/plain": [
       "(2, 'Hi', False, 3.5)"
      ]
     },
     "execution_count": 51,
     "metadata": {},
     "output_type": "execute_result"
    }
   ],
   "source": [
    "tup2 = (2, \"Hi\", False, 3.5)\n",
    "tup2"
   ]
  },
  {
   "cell_type": "code",
   "execution_count": 52,
   "id": "14761f32",
   "metadata": {},
   "outputs": [
    {
     "data": {
      "text/plain": [
       "(1, 'python', True, 2.5, 2, 'Hi', False, 3.5)"
      ]
     },
     "execution_count": 52,
     "metadata": {},
     "output_type": "execute_result"
    }
   ],
   "source": [
    "# concatinate(to add tuples)\n",
    "tup1 + tup2"
   ]
  },
  {
   "cell_type": "code",
   "execution_count": 53,
   "id": "615ac572",
   "metadata": {},
   "outputs": [
    {
     "data": {
      "text/plain": [
       "(1, 'python', True, 2.5, 1, 'python', True, 2.5, 2, 'Hi', False, 3.5)"
      ]
     },
     "execution_count": 53,
     "metadata": {},
     "output_type": "execute_result"
    }
   ],
   "source": [
    "# concatinate + repeat\n",
    "tup1*2 + tup2"
   ]
  },
  {
   "cell_type": "code",
   "execution_count": 56,
   "id": "12d394f3",
   "metadata": {},
   "outputs": [
    {
     "data": {
      "text/plain": [
       "(20, 50, 60, 80)"
      ]
     },
     "execution_count": 56,
     "metadata": {},
     "output_type": "execute_result"
    }
   ],
   "source": [
    "tup3 = (20, 50, 60, 80)\n",
    "tup3"
   ]
  },
  {
   "cell_type": "code",
   "execution_count": 57,
   "id": "0ac760a6",
   "metadata": {},
   "outputs": [
    {
     "data": {
      "text/plain": [
       "(20, 50, 60, 80, 20, 50, 60, 80)"
      ]
     },
     "execution_count": 57,
     "metadata": {},
     "output_type": "execute_result"
    }
   ],
   "source": [
    "tup3*2"
   ]
  },
  {
   "cell_type": "markdown",
   "id": "2055bd63",
   "metadata": {},
   "source": [
    "## 2. List:\n",
    "\n",
    "- orderd collection of elements\n",
    "\n",
    "- enclosed in square brackets\n",
    "\n",
    "- you can change the value"
   ]
  },
  {
   "cell_type": "code",
   "execution_count": 58,
   "id": "78ff7f36",
   "metadata": {},
   "outputs": [
    {
     "data": {
      "text/plain": [
       "[2, 'Hi', False]"
      ]
     },
     "execution_count": 58,
     "metadata": {},
     "output_type": "execute_result"
    }
   ],
   "source": [
    "list1 =[2, \"Hi\", False]\n",
    "list1"
   ]
  },
  {
   "cell_type": "code",
   "execution_count": 59,
   "id": "863c0274",
   "metadata": {},
   "outputs": [
    {
     "data": {
      "text/plain": [
       "list"
      ]
     },
     "execution_count": 59,
     "metadata": {},
     "output_type": "execute_result"
    }
   ],
   "source": [
    "type(list1)"
   ]
  },
  {
   "cell_type": "code",
   "execution_count": 60,
   "id": "a8eafa0c",
   "metadata": {},
   "outputs": [
    {
     "data": {
      "text/plain": [
       "[3, 5, 'Ali', 'Codanics', 478, 53.2, False]"
      ]
     },
     "execution_count": 60,
     "metadata": {},
     "output_type": "execute_result"
    }
   ],
   "source": [
    "list2 =[3, 5,\"Ali\", \"Codanics\", 478, 53.2, False]\n",
    "list2"
   ]
  },
  {
   "cell_type": "code",
   "execution_count": 61,
   "id": "390239b2",
   "metadata": {},
   "outputs": [
    {
     "data": {
      "text/plain": [
       "[2, 'Hi', False, 3, 5, 'Ali', 'Codanics', 478, 53.2, False]"
      ]
     },
     "execution_count": 61,
     "metadata": {},
     "output_type": "execute_result"
    }
   ],
   "source": [
    "list1 + list2"
   ]
  },
  {
   "cell_type": "code",
   "execution_count": 62,
   "id": "ecce44e3",
   "metadata": {},
   "outputs": [
    {
     "data": {
      "text/plain": [
       "[False, 'Hi', 2]"
      ]
     },
     "execution_count": 62,
     "metadata": {},
     "output_type": "execute_result"
    }
   ],
   "source": [
    "list1.reverse()\n",
    "list1"
   ]
  },
  {
   "cell_type": "code",
   "execution_count": 63,
   "id": "bf4188e3",
   "metadata": {},
   "outputs": [
    {
     "data": {
      "text/plain": [
       "[False, 'Hi', 2, 'how are you']"
      ]
     },
     "execution_count": 63,
     "metadata": {},
     "output_type": "execute_result"
    }
   ],
   "source": [
    "list1.append(\"how are you\")\n",
    "list1"
   ]
  },
  {
   "cell_type": "code",
   "execution_count": 64,
   "id": "da1770ec",
   "metadata": {},
   "outputs": [
    {
     "data": {
      "text/plain": [
       "[10, 20, 30, 40, 50, 60, 70, 80]"
      ]
     },
     "execution_count": 64,
     "metadata": {},
     "output_type": "execute_result"
    }
   ],
   "source": [
    "list3= [10, 20, 30, 40, 50, 60, 70, 80]\n",
    "list3"
   ]
  },
  {
   "cell_type": "code",
   "execution_count": 65,
   "id": "8ea05d16",
   "metadata": {},
   "outputs": [
    {
     "data": {
      "text/plain": [
       "[10, 20, 30, 40, 50, 60, 70, 80]"
      ]
     },
     "execution_count": 65,
     "metadata": {},
     "output_type": "execute_result"
    }
   ],
   "source": [
    "# sorting\n",
    "list3.sort()\n",
    "list3"
   ]
  },
  {
   "cell_type": "code",
   "execution_count": 66,
   "id": "681a1550",
   "metadata": {},
   "outputs": [
    {
     "data": {
      "text/plain": [
       "[10,\n",
       " 20,\n",
       " 30,\n",
       " 40,\n",
       " 50,\n",
       " 60,\n",
       " 70,\n",
       " 80,\n",
       " 10,\n",
       " 20,\n",
       " 30,\n",
       " 40,\n",
       " 50,\n",
       " 60,\n",
       " 70,\n",
       " 80,\n",
       " 10,\n",
       " 20,\n",
       " 30,\n",
       " 40,\n",
       " 50,\n",
       " 60,\n",
       " 70,\n",
       " 80]"
      ]
     },
     "execution_count": 66,
     "metadata": {},
     "output_type": "execute_result"
    }
   ],
   "source": [
    "list3*3"
   ]
  },
  {
   "cell_type": "markdown",
   "id": "d9d8786e",
   "metadata": {},
   "source": [
    "## 3. Dictionaries:\n",
    "\n",
    "- unordered collection of element\n",
    "\n",
    "- key and value\n",
    "\n",
    "- curly braces or brackets{}\n",
    "\n",
    "- can change the value"
   ]
  },
  {
   "cell_type": "code",
   "execution_count": 27,
   "id": "ceca6e0b",
   "metadata": {},
   "outputs": [
    {
     "data": {
      "text/plain": [
       "{'apple': 30, 'bread': 100, 'soda': 10, 'salad': 50, 'chicken roll': 100}"
      ]
     },
     "execution_count": 27,
     "metadata": {},
     "output_type": "execute_result"
    }
   ],
   "source": [
    "#Food and their prices\n",
    "food1 = {\"apple\": 30, \"bread\": 100, \"soda\": 10, \"salad\":50, \"chicken roll\":100}\n",
    "food1"
   ]
  },
  {
   "cell_type": "code",
   "execution_count": 28,
   "id": "d317bc84",
   "metadata": {},
   "outputs": [
    {
     "data": {
      "text/plain": [
       "dict_keys(['apple', 'bread', 'soda', 'salad', 'chicken roll'])"
      ]
     },
     "execution_count": 28,
     "metadata": {},
     "output_type": "execute_result"
    }
   ],
   "source": [
    "# extract data\n",
    "keys1 = food1.keys()\n",
    "keys1"
   ]
  },
  {
   "cell_type": "code",
   "execution_count": 29,
   "id": "8c4b723e",
   "metadata": {},
   "outputs": [
    {
     "data": {
      "text/plain": [
       "dict_values([30, 100, 10, 50, 100])"
      ]
     },
     "execution_count": 29,
     "metadata": {},
     "output_type": "execute_result"
    }
   ],
   "source": [
    "values1 = food1.values()\n",
    "values1"
   ]
  },
  {
   "cell_type": "code",
   "execution_count": 30,
   "id": "05342631",
   "metadata": {},
   "outputs": [
    {
     "data": {
      "text/plain": [
       "{'apple': 30,\n",
       " 'bread': 100,\n",
       " 'soda': 10,\n",
       " 'salad': 50,\n",
       " 'chicken roll': 100,\n",
       " 'milk': 15}"
      ]
     },
     "execution_count": 30,
     "metadata": {},
     "output_type": "execute_result"
    }
   ],
   "source": [
    "# update the values\n",
    "food1[\"milk\"]= 15\n",
    "food1"
   ]
  },
  {
   "cell_type": "code",
   "execution_count": 31,
   "id": "93d0ca2d",
   "metadata": {},
   "outputs": [
    {
     "data": {
      "text/plain": [
       "{'dates': 50, 'chocolate': 50, 'sweets': 1000}"
      ]
     },
     "execution_count": 31,
     "metadata": {},
     "output_type": "execute_result"
    }
   ],
   "source": [
    "food2 = {\"dates\":50, \"chocolate\":50, \"sweets\":1000}\n",
    "food2"
   ]
  },
  {
   "cell_type": "code",
   "execution_count": 32,
   "id": "24bcf229",
   "metadata": {},
   "outputs": [
    {
     "data": {
      "text/plain": [
       "{'apple': 30,\n",
       " 'bread': 100,\n",
       " 'soda': 10,\n",
       " 'salad': 50,\n",
       " 'chicken roll': 100,\n",
       " 'milk': 15,\n",
       " 'dates': 50,\n",
       " 'chocolate': 50,\n",
       " 'sweets': 1000}"
      ]
     },
     "execution_count": 32,
     "metadata": {},
     "output_type": "execute_result"
    }
   ],
   "source": [
    "#concatinate\n",
    "food1.update(food2)\n",
    "food1"
   ]
  },
  {
   "cell_type": "markdown",
   "id": "b910887d",
   "metadata": {},
   "source": [
    "## 4. Sets:\n",
    "\n",
    "- unordered and unindexed\n",
    "\n",
    "- curly braces {}\n",
    "\n",
    "- no duplicate"
   ]
  },
  {
   "cell_type": "code",
   "execution_count": 2,
   "id": "7cafa349",
   "metadata": {},
   "outputs": [
    {
     "data": {
      "text/plain": [
       "{1, 2.1, 5.2, 'Codanica', 'Faisalabad', 'Sharjeel'}"
      ]
     },
     "execution_count": 2,
     "metadata": {},
     "output_type": "execute_result"
    }
   ],
   "source": [
    "s1 ={1, 2.1, 5.2, \"Sharjeel\", \"Codanica\", \"Faisalabad\", True}\n",
    "s1"
   ]
  },
  {
   "cell_type": "code",
   "execution_count": 3,
   "id": "ce2167a3",
   "metadata": {},
   "outputs": [
    {
     "data": {
      "text/plain": [
       "{1, 2.1, 5.2, 'Codanica', 'Faisalabad', 'Sharjeel', 'nice'}"
      ]
     },
     "execution_count": 3,
     "metadata": {},
     "output_type": "execute_result"
    }
   ],
   "source": [
    "s1.add(\"nice\")\n",
    "s1"
   ]
  },
  {
   "cell_type": "code",
   "execution_count": 4,
   "id": "37fcb183",
   "metadata": {},
   "outputs": [
    {
     "data": {
      "text/plain": [
       "{1, 2.1, 5.2, 'Faisalabad', 'Sharjeel', 'nice'}"
      ]
     },
     "execution_count": 4,
     "metadata": {},
     "output_type": "execute_result"
    }
   ],
   "source": [
    "s1.remove(\"Codanica\")\n",
    "s1"
   ]
  }
 ],
 "metadata": {
  "kernelspec": {
   "display_name": "Python 3 (ipykernel)",
   "language": "python",
   "name": "python3"
  },
  "language_info": {
   "codemirror_mode": {
    "name": "ipython",
    "version": 3
   },
   "file_extension": ".py",
   "mimetype": "text/x-python",
   "name": "python",
   "nbconvert_exporter": "python",
   "pygments_lexer": "ipython3",
   "version": "3.10.1"
  }
 },
 "nbformat": 4,
 "nbformat_minor": 5
}

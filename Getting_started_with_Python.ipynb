{
 "cells": [
  {
   "cell_type": "markdown",
   "id": "7a1285ad",
   "metadata": {},
   "source": [
    "## Python - Introduction:\n",
    "\n",
    "- Getting started with Python\n",
    "\n",
    "- Basics"
   ]
  },
  {
   "cell_type": "code",
   "execution_count": 1,
   "id": "bc60deac",
   "metadata": {},
   "outputs": [
    {
     "name": "stdout",
     "output_type": "stream",
     "text": [
      "python_with_Sharjeel\n",
      "5\n",
      "Hello\n",
      "starting_python\n"
     ]
    }
   ],
   "source": [
    "#First code - introduction\n",
    "print(\"python_with_Sharjeel\")\n",
    "print(2+3)\n",
    "print(\"Hello\")\n",
    "print(\"starting_python\")"
   ]
  },
  {
   "cell_type": "code",
   "execution_count": 11,
   "id": "35483824",
   "metadata": {},
   "outputs": [
    {
     "name": "stdout",
     "output_type": "stream",
     "text": [
      "5\n",
      "56\n",
      "18.0\n"
     ]
    }
   ],
   "source": [
    "#Operators\n",
    "print(2+3)\n",
    "print(56)\n",
    "print(32/2*3/3+6-4)\n",
    "\n",
    "#PEMDAS Paranthases exponent multiply divide addition subtration left to rihght seq for m,d and a,s"
   ]
  },
  {
   "cell_type": "code",
   "execution_count": 9,
   "id": "25594ba3",
   "metadata": {},
   "outputs": [
    {
     "name": "stdout",
     "output_type": "stream",
     "text": [
      "no one\n",
      "every one\n",
      "some one\n",
      "what's up\n"
     ]
    }
   ],
   "source": [
    "#Strings\n",
    "print('no one')\n",
    "print(\"every one\")\n",
    "print('''some one''')\n",
    "print(\"what's up\")"
   ]
  },
  {
   "cell_type": "code",
   "execution_count": 42,
   "id": "05101480",
   "metadata": {},
   "outputs": [
    {
     "name": "stdout",
     "output_type": "stream",
     "text": [
      "how are you\n",
      "we are learning python\n",
      "8\n"
     ]
    }
   ],
   "source": [
    "#Comments\n",
    "print(\"how are you\") #press these to comment out (ctrl + /)\n",
    "print(\"we are learning python\")  #print a string\n",
    "print(2+6) #print operators functions with number"
   ]
  },
  {
   "cell_type": "code",
   "execution_count": 14,
   "id": "34cdb1f4",
   "metadata": {},
   "outputs": [
    {
     "name": "stdout",
     "output_type": "stream",
     "text": [
      "we are learning python\n",
      "15\n",
      "mangoes, oranges\n",
      "<class 'int'>\n",
      "mangoes\n",
      "mango\n",
      "hello! Sharjeel\n"
     ]
    }
   ],
   "source": [
    "#Variables\n",
    "#Variables: objects containing specific values\n",
    "x = 5 #numeric variables print(x)\n",
    "y=\"we are learning python\"\n",
    "#string variables\n",
    "print(y)\n",
    "x= x+10 #or x=15\n",
    "print(x)\n",
    "\n",
    "#rules to assign variables\n",
    "\n",
    "#1. variables should have letter, numbers or underscopes\n",
    "#2. Donot start with numbers\n",
    "#3. spaces are not allowed\n",
    "#4. donot use functional keywords (mean, median, test etc)\n",
    "#5. short and descriptive\n",
    "#6. case sensitive (lower should be used)\n",
    "fruit_basket=\"mangoes, oranges\"\n",
    "print(fruit_basket)\n",
    "fruit_basket= 8\n",
    "print(type(fruit_basket))\n",
    "\n",
    "#fruit basket\n",
    "#Input Variables\n",
    "fruit_basket=\"mangoes\"\n",
    "print(fruit_basket)\n",
    "\n",
    "#input function\n",
    "\n",
    "fruit_basket=input(\"which is your favourite fruit?\")\n",
    "print(fruit_basket)\n",
    "\n",
    "name= input(\"what is your name? \")\n",
    "greetings=\"hello!\"\n",
    "\n",
    "print(greetings, name)"
   ]
  },
  {
   "cell_type": "code",
   "execution_count": 12,
   "id": "a47b1890",
   "metadata": {},
   "outputs": [
    {
     "name": "stdout",
     "output_type": "stream",
     "text": [
      "hello! Sharjeel\n"
     ]
    }
   ],
   "source": [
    "#another way of doing this\n",
    "name= input(\"what is your name? \")\n",
    "print(\"hello!\", name)"
   ]
  },
  {
   "cell_type": "code",
   "execution_count": 13,
   "id": "915a4ba3",
   "metadata": {},
   "outputs": [
    {
     "name": "stdout",
     "output_type": "stream",
     "text": [
      "hello Sharjeel you are still young\n",
      "Hello! You are welcome\n"
     ]
    }
   ],
   "source": [
    "#3rd stage input function\n",
    "name= input(\"what is your name\")\n",
    "age= input(\"how old are you?\")\n",
    "greetings=(\"hello\")\n",
    "\n",
    "print(greetings, name, \"you are still young\")\n",
    "\n",
    "ID= input(\"what is your ID ?\")\n",
    "Password= input(\"what is you password ?\")\n",
    "greetings=(\"Hello!\")\n",
    "\n",
    "print(greetings, \"You are welcome\")"
   ]
  },
  {
   "cell_type": "code",
   "execution_count": 18,
   "id": "8260ede2",
   "metadata": {},
   "outputs": [
    {
     "name": "stdout",
     "output_type": "stream",
     "text": [
      "True\n",
      "False\n",
      "True\n",
      "True\n",
      "True\n",
      "True\n"
     ]
    }
   ],
   "source": [
    "#Conditional logics\n",
    "#equal to ==\n",
    "#not equal to !=\n",
    "#less than <\n",
    "#greater than >\n",
    "#less than equal to <=\n",
    "##greater than equal to >= #logical operators are either \"true or false\" or \"yes or no\" or \"0 or 1\"\n",
    "\n",
    "#is 4 equal to 4?\n",
    "print(4==4)\n",
    "print(4!=4)\n",
    "print(4>3)\n",
    "print(3<6)\n",
    "print(3<=5)\n",
    "print(5>=4)"
   ]
  },
  {
   "cell_type": "code",
   "execution_count": 16,
   "id": "cdce16ac",
   "metadata": {},
   "outputs": [
    {
     "name": "stdout",
     "output_type": "stream",
     "text": [
      "20.2 type of x is: <class 'float'>\n"
     ]
    }
   ],
   "source": [
    "#Conversion type\n",
    "x= 10.2 #integar\n",
    "y= 10 #float\n",
    "z= \"hello\" #string\n",
    "\n",
    "#implict type\n",
    "\n",
    "x= x+y\n",
    "\n",
    "print(x, \"type of x is:\", type(x))"
   ]
  },
  {
   "cell_type": "code",
   "execution_count": 15,
   "id": "79dab513",
   "metadata": {},
   "outputs": [
    {
     "name": "stdout",
     "output_type": "stream",
     "text": [
      "<class 'int'>\n",
      "False\n"
     ]
    }
   ],
   "source": [
    "#applications of logical operators\n",
    "#hammad_age=4\n",
    "#age_at_shchool=5\n",
    "#print(hammad_age==age_at_shchool)\n",
    "\n",
    "#input functions and logical operators\n",
    "age_at_shchool=5\n",
    "hammad_age=input(\"how old is hammad\")\n",
    "#input functions\n",
    "hammad_age= int(hammad_age)\n",
    "print(type(hammad_age))\n",
    "print(hammad_age==age_at_shchool) #logical operators"
   ]
  },
  {
   "cell_type": "code",
   "execution_count": 17,
   "id": "618fcd5c",
   "metadata": {},
   "outputs": [
    {
     "name": "stdout",
     "output_type": "stream",
     "text": [
      "<class 'int'>\n",
      "25 <class 'int'>\n",
      "25 <class 'float'>\n",
      "Sharjeel <class 'str'>\n"
     ]
    }
   ],
   "source": [
    "#when an integar interact with float, it changes into float\n",
    "\n",
    "#explict type\n",
    "age=input(\"what is age\")\n",
    "age=int(age)\n",
    "print(type(age))\n",
    "\n",
    "#2nd way\n",
    "\n",
    "print(age, type(int(age)))\n",
    "print(age, type(float(age)))\n",
    "\n",
    "name=input(\"what is name\")\n",
    "print(name, type(str(name)))\n"
   ]
  },
  {
   "cell_type": "code",
   "execution_count": 24,
   "id": "31fd436d",
   "metadata": {},
   "outputs": [
    {
     "name": "stdout",
     "output_type": "stream",
     "text": [
      "take care of him\n"
     ]
    }
   ],
   "source": [
    "#If_else_elif\n",
    "req_age_at_school = 5\n",
    "ali_age = 1\n",
    "\n",
    "#can ali go to school\n",
    "if ali_age==req_age_at_school:\n",
    "    print(\"ali can join the school\")\n",
    "elif ali_age > req_age_at_school:\n",
    "        print(\"ali should join school\")\n",
    "elif ali_age <= 2:\n",
    "        print(\"take care of him\")\n",
    "else:\n",
    "    print(\"ali cannot go to school\")\n"
   ]
  },
  {
   "cell_type": "code",
   "execution_count": 20,
   "id": "09ef2c0b",
   "metadata": {},
   "outputs": [],
   "source": [
    "#if, elif else statement clear\n",
    "#Functions\n",
    "#define a functions\n",
    "def print_lapy():\n",
    "    print(\"we are good\")\n",
    "    print(\"we are good\")\n",
    "    print(\"we are good\")\n",
    "    print_lapy()"
   ]
  },
  {
   "cell_type": "code",
   "execution_count": 21,
   "id": "1d1c2bd0",
   "metadata": {},
   "outputs": [
    {
     "name": "stdout",
     "output_type": "stream",
     "text": [
      "we are good\n",
      "we are good\n",
      "we are good\n"
     ]
    }
   ],
   "source": [
    "2\n",
    "def print_lapy():\n",
    "    text = \"we are good\"\n",
    "    print(text)\n",
    "    print(text)\n",
    "    print(text)\n",
    "\n",
    "print_lapy()"
   ]
  },
  {
   "cell_type": "code",
   "execution_count": 22,
   "id": "e50106bc",
   "metadata": {},
   "outputs": [
    {
     "name": "stdout",
     "output_type": "stream",
     "text": [
      "you are good\n",
      "you are good\n",
      "you are good\n"
     ]
    }
   ],
   "source": [
    "#3\n",
    "\n",
    "def print_lapy(text):\n",
    "    print(text)\n",
    "    print(text)\n",
    "    print(text)\n",
    "\n",
    "print_lapy(\"you are good\")"
   ]
  },
  {
   "cell_type": "code",
   "execution_count": 23,
   "id": "133d3a5e",
   "metadata": {},
   "outputs": [
    {
     "name": "stdout",
     "output_type": "stream",
     "text": [
      "ali is too young to school\n"
     ]
    }
   ],
   "source": [
    "#define a function with if, elif and else\n",
    "def school_calculator(age, text):\n",
    "    if age==5:\n",
    "        print(\"ali can go to school\")\n",
    "    elif age>5:\n",
    "        print (\"ali should go to school\")\n",
    "    else:\n",
    "            print(\"ali is too young to school\")\n",
    "\n",
    "school_calculator(2,\"ali\")"
   ]
  },
  {
   "cell_type": "code",
   "execution_count": 30,
   "id": "0240c984",
   "metadata": {},
   "outputs": [
    {
     "name": "stdout",
     "output_type": "stream",
     "text": [
      "4\n",
      "5\n",
      "6\n",
      "7\n",
      "8\n",
      "9\n",
      "the value of pi is 3.141592653589793\n",
      "25\n",
      "we are learning\n",
      "hello name\n",
      "hello ali\n"
     ]
    }
   ],
   "source": [
    "#Loops\n",
    "#while and for loops\n",
    "#while loops\n",
    "\n",
    "#x=0 while (x<=5)\n",
    "#print(x) x=x+1\n",
    "\n",
    "#for loops\n",
    "\n",
    "for x in range(4,10):\n",
    "    print(x)\n",
    "\n",
    "#array\n",
    "days= [\"mon\", \"tue\", \"wed\", \"thur\", \"fri\",\"sat\"]\n",
    "\n",
    "\n",
    "import math\n",
    "print(\"the value of pi is\", math.pi)\n",
    "\n",
    "import statistics\n",
    "\n",
    "x= [10, 20, 30, 40]\n",
    "print(statistics.mean(x))\n",
    "\n",
    "#numpy, pandas\n",
    "\n",
    "#Troubleshooting\n",
    "print(\"we are learning\") #syntax error\n",
    "\n",
    "#print(25/0) # runtime error\n",
    "\n",
    "name= \"ali\"\n",
    "\n",
    "print(\"hello name\") # symantic error\n",
    "\n",
    "print(\"hello\", name) #correction of symantic"
   ]
  },
  {
   "cell_type": "code",
   "execution_count": 31,
   "id": "6d35bbcd",
   "metadata": {},
   "outputs": [
    {
     "data": {
      "text/plain": [
       "'nice'"
      ]
     },
     "execution_count": 31,
     "metadata": {},
     "output_type": "execute_result"
    }
   ],
   "source": [
    "# make a string\n",
    "a = \"nice\"\n",
    "a\n"
   ]
  },
  {
   "cell_type": "code",
   "execution_count": 32,
   "id": "5d19f8e4",
   "metadata": {},
   "outputs": [
    {
     "data": {
      "text/plain": [
       "'nice'"
      ]
     },
     "execution_count": 32,
     "metadata": {},
     "output_type": "execute_result"
    }
   ],
   "source": [
    "a"
   ]
  },
  {
   "cell_type": "code",
   "execution_count": 33,
   "id": "4861630a",
   "metadata": {},
   "outputs": [
    {
     "data": {
      "text/plain": [
       "4"
      ]
     },
     "execution_count": 33,
     "metadata": {},
     "output_type": "execute_result"
    }
   ],
   "source": [
    "# length of indices\n",
    "len(a)"
   ]
  },
  {
   "cell_type": "code",
   "execution_count": 34,
   "id": "1ec769cb",
   "metadata": {},
   "outputs": [
    {
     "data": {
      "text/plain": [
       "'i'"
      ]
     },
     "execution_count": 34,
     "metadata": {},
     "output_type": "execute_result"
    }
   ],
   "source": [
    "a[1]"
   ]
  },
  {
   "cell_type": "code",
   "execution_count": 35,
   "id": "b4c53b66",
   "metadata": {},
   "outputs": [
    {
     "data": {
      "text/plain": [
       "'nic'"
      ]
     },
     "execution_count": 35,
     "metadata": {},
     "output_type": "execute_result"
    }
   ],
   "source": [
    "a[0:3]"
   ]
  },
  {
   "cell_type": "code",
   "execution_count": 36,
   "id": "2e705698",
   "metadata": {},
   "outputs": [
    {
     "data": {
      "text/plain": [
       "'nic'"
      ]
     },
     "execution_count": 36,
     "metadata": {},
     "output_type": "execute_result"
    }
   ],
   "source": [
    "a[-4:-1]"
   ]
  },
  {
   "cell_type": "code",
   "execution_count": 37,
   "id": "5222da5b",
   "metadata": {},
   "outputs": [
    {
     "data": {
      "text/plain": [
       "'biryani'"
      ]
     },
     "execution_count": 37,
     "metadata": {},
     "output_type": "execute_result"
    }
   ],
   "source": [
    "food = \"biryani\"\n",
    "food"
   ]
  },
  {
   "cell_type": "markdown",
   "id": "647df993",
   "metadata": {},
   "source": [
    "String Methods"
   ]
  },
  {
   "cell_type": "code",
   "execution_count": 38,
   "id": "e728ad10",
   "metadata": {},
   "outputs": [
    {
     "data": {
      "text/plain": [
       "'biryani'"
      ]
     },
     "execution_count": 38,
     "metadata": {},
     "output_type": "execute_result"
    }
   ],
   "source": [
    "food"
   ]
  },
  {
   "cell_type": "code",
   "execution_count": 39,
   "id": "2d4eeb2f",
   "metadata": {},
   "outputs": [
    {
     "data": {
      "text/plain": [
       "7"
      ]
     },
     "execution_count": 39,
     "metadata": {},
     "output_type": "execute_result"
    }
   ],
   "source": [
    "len(food)"
   ]
  },
  {
   "cell_type": "code",
   "execution_count": 40,
   "id": "871ff564",
   "metadata": {},
   "outputs": [
    {
     "data": {
      "text/plain": [
       "'Biryani'"
      ]
     },
     "execution_count": 40,
     "metadata": {},
     "output_type": "execute_result"
    }
   ],
   "source": [
    "food.capitalize()"
   ]
  },
  {
   "cell_type": "code",
   "execution_count": 41,
   "id": "3599ed6d",
   "metadata": {},
   "outputs": [
    {
     "data": {
      "text/plain": [
       "'shiryani'"
      ]
     },
     "execution_count": 41,
     "metadata": {},
     "output_type": "execute_result"
    }
   ],
   "source": [
    "food.replace(\"b\",\"sh\")"
   ]
  },
  {
   "cell_type": "code",
   "execution_count": 42,
   "id": "13c9d9df",
   "metadata": {},
   "outputs": [
    {
     "data": {
      "text/plain": [
       "'Sharjeel with python'"
      ]
     },
     "execution_count": 42,
     "metadata": {},
     "output_type": "execute_result"
    }
   ],
   "source": [
    "name  = \"Sharjeel with python\"\n",
    "name"
   ]
  },
  {
   "cell_type": "code",
   "execution_count": 43,
   "id": "8e00df09",
   "metadata": {},
   "outputs": [
    {
     "data": {
      "text/plain": [
       "3"
      ]
     },
     "execution_count": 43,
     "metadata": {},
     "output_type": "execute_result"
    }
   ],
   "source": [
    "name.count(\"h\")"
   ]
  },
  {
   "cell_type": "markdown",
   "id": "10bf4bec",
   "metadata": {},
   "source": [
    "How to split a string"
   ]
  },
  {
   "cell_type": "code",
   "execution_count": 25,
   "id": "cb1013af",
   "metadata": {},
   "outputs": [
    {
     "data": {
      "text/plain": [
       "'I love data, analysis and python'"
      ]
     },
     "execution_count": 25,
     "metadata": {},
     "output_type": "execute_result"
    }
   ],
   "source": [
    "food = \"I love data, analysis and python\"\n",
    "food"
   ]
  },
  {
   "cell_type": "code",
   "execution_count": 26,
   "id": "eb3eca23",
   "metadata": {},
   "outputs": [
    {
     "data": {
      "text/plain": [
       "['I love data', ' analysis and python']"
      ]
     },
     "execution_count": 26,
     "metadata": {},
     "output_type": "execute_result"
    }
   ],
   "source": [
    "food.split(\",\")"
   ]
  },
  {
   "cell_type": "markdown",
   "id": "34914315",
   "metadata": {},
   "source": [
    "Basic Data Structure in Python:\n",
    "\n",
    "1. Tuple\n",
    "\n",
    "2. List\n",
    "\n",
    "3. Dictionaries\n",
    "\n",
    "4. Set¶"
   ]
  },
  {
   "cell_type": "markdown",
   "id": "3d373c7b",
   "metadata": {},
   "source": [
    "## 1. Tuple:\n",
    "\n",
    "- orederd collection of elements\n",
    "\n",
    "- enclosed in ()\n",
    "\n",
    "- different kind of elements can be stored\n",
    "\n",
    "- once elements are stored, you canot change it"
   ]
  },
  {
   "cell_type": "code",
   "execution_count": 46,
   "id": "6dfc2a7e",
   "metadata": {},
   "outputs": [
    {
     "data": {
      "text/plain": [
       "(1, 'python', True, 2.5)"
      ]
     },
     "execution_count": 46,
     "metadata": {},
     "output_type": "execute_result"
    }
   ],
   "source": [
    "tup1 = (1, \"python\", True, 2.5)\n",
    "tup1"
   ]
  },
  {
   "cell_type": "code",
   "execution_count": 47,
   "id": "62a4958d",
   "metadata": {},
   "outputs": [
    {
     "data": {
      "text/plain": [
       "tuple"
      ]
     },
     "execution_count": 47,
     "metadata": {},
     "output_type": "execute_result"
    }
   ],
   "source": [
    "# types of tuple\n",
    "type(tup1)"
   ]
  },
  {
   "cell_type": "markdown",
   "id": "a2e2689c",
   "metadata": {},
   "source": [
    "- Indexing in tuple"
   ]
  },
  {
   "cell_type": "code",
   "execution_count": 48,
   "id": "2bbf8299",
   "metadata": {},
   "outputs": [
    {
     "data": {
      "text/plain": [
       "'python'"
      ]
     },
     "execution_count": 48,
     "metadata": {},
     "output_type": "execute_result"
    }
   ],
   "source": [
    "tup1[1]"
   ]
  },
  {
   "cell_type": "code",
   "execution_count": 49,
   "id": "b43d1fe7",
   "metadata": {},
   "outputs": [
    {
     "data": {
      "text/plain": [
       "(1, 'python', True)"
      ]
     },
     "execution_count": 49,
     "metadata": {},
     "output_type": "execute_result"
    }
   ],
   "source": [
    "# last element is exclusive\n",
    "tup1[0:3]"
   ]
  },
  {
   "cell_type": "code",
   "execution_count": 50,
   "id": "b6ef8877",
   "metadata": {},
   "outputs": [
    {
     "data": {
      "text/plain": [
       "4"
      ]
     },
     "execution_count": 50,
     "metadata": {},
     "output_type": "execute_result"
    }
   ],
   "source": [
    "len(tup1)"
   ]
  },
  {
   "cell_type": "code",
   "execution_count": 51,
   "id": "0c4fe11d",
   "metadata": {},
   "outputs": [
    {
     "data": {
      "text/plain": [
       "(2, 'Hi', False, 3.5)"
      ]
     },
     "execution_count": 51,
     "metadata": {},
     "output_type": "execute_result"
    }
   ],
   "source": [
    "tup2 = (2, \"Hi\", False, 3.5)\n",
    "tup2"
   ]
  },
  {
   "cell_type": "code",
   "execution_count": 52,
   "id": "14761f32",
   "metadata": {},
   "outputs": [
    {
     "data": {
      "text/plain": [
       "(1, 'python', True, 2.5, 2, 'Hi', False, 3.5)"
      ]
     },
     "execution_count": 52,
     "metadata": {},
     "output_type": "execute_result"
    }
   ],
   "source": [
    "# concatinate(to add tuples)\n",
    "tup1 + tup2"
   ]
  },
  {
   "cell_type": "code",
   "execution_count": 53,
   "id": "615ac572",
   "metadata": {},
   "outputs": [
    {
     "data": {
      "text/plain": [
       "(1, 'python', True, 2.5, 1, 'python', True, 2.5, 2, 'Hi', False, 3.5)"
      ]
     },
     "execution_count": 53,
     "metadata": {},
     "output_type": "execute_result"
    }
   ],
   "source": [
    "# concatinate + repeat\n",
    "tup1*2 + tup2"
   ]
  },
  {
   "cell_type": "code",
   "execution_count": 56,
   "id": "12d394f3",
   "metadata": {},
   "outputs": [
    {
     "data": {
      "text/plain": [
       "(20, 50, 60, 80)"
      ]
     },
     "execution_count": 56,
     "metadata": {},
     "output_type": "execute_result"
    }
   ],
   "source": [
    "tup3 = (20, 50, 60, 80)\n",
    "tup3"
   ]
  },
  {
   "cell_type": "code",
   "execution_count": 57,
   "id": "0ac760a6",
   "metadata": {},
   "outputs": [
    {
     "data": {
      "text/plain": [
       "(20, 50, 60, 80, 20, 50, 60, 80)"
      ]
     },
     "execution_count": 57,
     "metadata": {},
     "output_type": "execute_result"
    }
   ],
   "source": [
    "tup3*2"
   ]
  },
  {
   "cell_type": "markdown",
   "id": "2055bd63",
   "metadata": {},
   "source": [
    "## 2. List:\n",
    "\n",
    "- orderd collection of elements\n",
    "\n",
    "- enclosed in square brackets\n",
    "\n",
    "- you can change the value"
   ]
  },
  {
   "cell_type": "code",
   "execution_count": 58,
   "id": "78ff7f36",
   "metadata": {},
   "outputs": [
    {
     "data": {
      "text/plain": [
       "[2, 'Hi', False]"
      ]
     },
     "execution_count": 58,
     "metadata": {},
     "output_type": "execute_result"
    }
   ],
   "source": [
    "list1 =[2, \"Hi\", False]\n",
    "list1"
   ]
  },
  {
   "cell_type": "code",
   "execution_count": 59,
   "id": "863c0274",
   "metadata": {},
   "outputs": [
    {
     "data": {
      "text/plain": [
       "list"
      ]
     },
     "execution_count": 59,
     "metadata": {},
     "output_type": "execute_result"
    }
   ],
   "source": [
    "type(list1)"
   ]
  },
  {
   "cell_type": "code",
   "execution_count": 60,
   "id": "a8eafa0c",
   "metadata": {},
   "outputs": [
    {
     "data": {
      "text/plain": [
       "[3, 5, 'Ali', 'Codanics', 478, 53.2, False]"
      ]
     },
     "execution_count": 60,
     "metadata": {},
     "output_type": "execute_result"
    }
   ],
   "source": [
    "list2 =[3, 5,\"Ali\", \"Codanics\", 478, 53.2, False]\n",
    "list2"
   ]
  },
  {
   "cell_type": "code",
   "execution_count": 61,
   "id": "390239b2",
   "metadata": {},
   "outputs": [
    {
     "data": {
      "text/plain": [
       "[2, 'Hi', False, 3, 5, 'Ali', 'Codanics', 478, 53.2, False]"
      ]
     },
     "execution_count": 61,
     "metadata": {},
     "output_type": "execute_result"
    }
   ],
   "source": [
    "list1 + list2"
   ]
  },
  {
   "cell_type": "code",
   "execution_count": 62,
   "id": "ecce44e3",
   "metadata": {},
   "outputs": [
    {
     "data": {
      "text/plain": [
       "[False, 'Hi', 2]"
      ]
     },
     "execution_count": 62,
     "metadata": {},
     "output_type": "execute_result"
    }
   ],
   "source": [
    "list1.reverse()\n",
    "list1"
   ]
  },
  {
   "cell_type": "code",
   "execution_count": 63,
   "id": "bf4188e3",
   "metadata": {},
   "outputs": [
    {
     "data": {
      "text/plain": [
       "[False, 'Hi', 2, 'how are you']"
      ]
     },
     "execution_count": 63,
     "metadata": {},
     "output_type": "execute_result"
    }
   ],
   "source": [
    "list1.append(\"how are you\")\n",
    "list1"
   ]
  },
  {
   "cell_type": "code",
   "execution_count": 64,
   "id": "da1770ec",
   "metadata": {},
   "outputs": [
    {
     "data": {
      "text/plain": [
       "[10, 20, 30, 40, 50, 60, 70, 80]"
      ]
     },
     "execution_count": 64,
     "metadata": {},
     "output_type": "execute_result"
    }
   ],
   "source": [
    "list3= [10, 20, 30, 40, 50, 60, 70, 80]\n",
    "list3"
   ]
  },
  {
   "cell_type": "code",
   "execution_count": 65,
   "id": "8ea05d16",
   "metadata": {},
   "outputs": [
    {
     "data": {
      "text/plain": [
       "[10, 20, 30, 40, 50, 60, 70, 80]"
      ]
     },
     "execution_count": 65,
     "metadata": {},
     "output_type": "execute_result"
    }
   ],
   "source": [
    "# sorting\n",
    "list3.sort()\n",
    "list3"
   ]
  },
  {
   "cell_type": "code",
   "execution_count": 66,
   "id": "681a1550",
   "metadata": {},
   "outputs": [
    {
     "data": {
      "text/plain": [
       "[10,\n",
       " 20,\n",
       " 30,\n",
       " 40,\n",
       " 50,\n",
       " 60,\n",
       " 70,\n",
       " 80,\n",
       " 10,\n",
       " 20,\n",
       " 30,\n",
       " 40,\n",
       " 50,\n",
       " 60,\n",
       " 70,\n",
       " 80,\n",
       " 10,\n",
       " 20,\n",
       " 30,\n",
       " 40,\n",
       " 50,\n",
       " 60,\n",
       " 70,\n",
       " 80]"
      ]
     },
     "execution_count": 66,
     "metadata": {},
     "output_type": "execute_result"
    }
   ],
   "source": [
    "list3*3"
   ]
  },
  {
   "cell_type": "markdown",
   "id": "d9d8786e",
   "metadata": {},
   "source": [
    "## 3. Dictionaries:\n",
    "\n",
    "- unordered collection of element\n",
    "\n",
    "- key and value\n",
    "\n",
    "- curly braces or brackets{}\n",
    "\n",
    "- can change the value"
   ]
  },
  {
   "cell_type": "code",
   "execution_count": 27,
   "id": "ceca6e0b",
   "metadata": {},
   "outputs": [
    {
     "data": {
      "text/plain": [
       "{'apple': 30, 'bread': 100, 'soda': 10, 'salad': 50, 'chicken roll': 100}"
      ]
     },
     "execution_count": 27,
     "metadata": {},
     "output_type": "execute_result"
    }
   ],
   "source": [
    "#Food and their prices\n",
    "food1 = {\"apple\": 30, \"bread\": 100, \"soda\": 10, \"salad\":50, \"chicken roll\":100}\n",
    "food1"
   ]
  },
  {
   "cell_type": "code",
   "execution_count": 28,
   "id": "d317bc84",
   "metadata": {},
   "outputs": [
    {
     "data": {
      "text/plain": [
       "dict_keys(['apple', 'bread', 'soda', 'salad', 'chicken roll'])"
      ]
     },
     "execution_count": 28,
     "metadata": {},
     "output_type": "execute_result"
    }
   ],
   "source": [
    "# extract data\n",
    "keys1 = food1.keys()\n",
    "keys1"
   ]
  },
  {
   "cell_type": "code",
   "execution_count": 29,
   "id": "8c4b723e",
   "metadata": {},
   "outputs": [
    {
     "data": {
      "text/plain": [
       "dict_values([30, 100, 10, 50, 100])"
      ]
     },
     "execution_count": 29,
     "metadata": {},
     "output_type": "execute_result"
    }
   ],
   "source": [
    "values1 = food1.values()\n",
    "values1"
   ]
  },
  {
   "cell_type": "code",
   "execution_count": 30,
   "id": "05342631",
   "metadata": {},
   "outputs": [
    {
     "data": {
      "text/plain": [
       "{'apple': 30,\n",
       " 'bread': 100,\n",
       " 'soda': 10,\n",
       " 'salad': 50,\n",
       " 'chicken roll': 100,\n",
       " 'milk': 15}"
      ]
     },
     "execution_count": 30,
     "metadata": {},
     "output_type": "execute_result"
    }
   ],
   "source": [
    "# update the values\n",
    "food1[\"milk\"]= 15\n",
    "food1"
   ]
  },
  {
   "cell_type": "code",
   "execution_count": 31,
   "id": "93d0ca2d",
   "metadata": {},
   "outputs": [
    {
     "data": {
      "text/plain": [
       "{'dates': 50, 'chocolate': 50, 'sweets': 1000}"
      ]
     },
     "execution_count": 31,
     "metadata": {},
     "output_type": "execute_result"
    }
   ],
   "source": [
    "food2 = {\"dates\":50, \"chocolate\":50, \"sweets\":1000}\n",
    "food2"
   ]
  },
  {
   "cell_type": "code",
   "execution_count": 32,
   "id": "24bcf229",
   "metadata": {},
   "outputs": [
    {
     "data": {
      "text/plain": [
       "{'apple': 30,\n",
       " 'bread': 100,\n",
       " 'soda': 10,\n",
       " 'salad': 50,\n",
       " 'chicken roll': 100,\n",
       " 'milk': 15,\n",
       " 'dates': 50,\n",
       " 'chocolate': 50,\n",
       " 'sweets': 1000}"
      ]
     },
     "execution_count": 32,
     "metadata": {},
     "output_type": "execute_result"
    }
   ],
   "source": [
    "#concatinate\n",
    "food1.update(food2)\n",
    "food1"
   ]
  },
  {
   "cell_type": "markdown",
   "id": "b910887d",
   "metadata": {},
   "source": [
    "## 4. Sets:\n",
    "\n",
    "- unordered and unindexed\n",
    "\n",
    "- curly braces {}\n",
    "\n",
    "- no duplicate"
   ]
  },
  {
   "cell_type": "code",
   "execution_count": 2,
   "id": "7cafa349",
   "metadata": {},
   "outputs": [
    {
     "data": {
      "text/plain": [
       "{1, 2.1, 5.2, 'Codanica', 'Faisalabad', 'Sharjeel'}"
      ]
     },
     "execution_count": 2,
     "metadata": {},
     "output_type": "execute_result"
    }
   ],
   "source": [
    "s1 ={1, 2.1, 5.2, \"Sharjeel\", \"Codanica\", \"Faisalabad\", True}\n",
    "s1"
   ]
  },
  {
   "cell_type": "code",
   "execution_count": 3,
   "id": "ce2167a3",
   "metadata": {},
   "outputs": [
    {
     "data": {
      "text/plain": [
       "{1, 2.1, 5.2, 'Codanica', 'Faisalabad', 'Sharjeel', 'nice'}"
      ]
     },
     "execution_count": 3,
     "metadata": {},
     "output_type": "execute_result"
    }
   ],
   "source": [
    "s1.add(\"nice\")\n",
    "s1"
   ]
  },
  {
   "cell_type": "code",
   "execution_count": 4,
   "id": "37fcb183",
   "metadata": {},
   "outputs": [
    {
     "data": {
      "text/plain": [
       "{1, 2.1, 5.2, 'Faisalabad', 'Sharjeel', 'nice'}"
      ]
     },
     "execution_count": 4,
     "metadata": {},
     "output_type": "execute_result"
    }
   ],
   "source": [
    "s1.remove(\"Codanica\")\n",
    "s1"
   ]
  },
  {
   "cell_type": "markdown",
   "id": "4fcfb66e",
   "metadata": {},
   "source": [
    "# Numpy"
   ]
  },
  {
   "cell_type": "code",
   "execution_count": null,
   "id": "e1c930de",
   "metadata": {},
   "outputs": [],
   "source": [
    "# pip install numpy"
   ]
  },
  {
   "cell_type": "code",
   "execution_count": 1,
   "id": "784c4f94",
   "metadata": {},
   "outputs": [],
   "source": [
    "# import this library\n",
    "import numpy as np"
   ]
  },
  {
   "cell_type": "code",
   "execution_count": 3,
   "id": "d430411c",
   "metadata": {},
   "outputs": [
    {
     "data": {
      "text/plain": [
       "array(['tea', 'candy', 'water'], dtype='<U5')"
      ]
     },
     "execution_count": 3,
     "metadata": {},
     "output_type": "execute_result"
    }
   ],
   "source": [
    "# 1-D array\n",
    "food =np.array([\"tea\", \"candy\",\"water\"])\n",
    "food"
   ]
  },
  {
   "cell_type": "code",
   "execution_count": 4,
   "id": "432a3428",
   "metadata": {},
   "outputs": [
    {
     "data": {
      "text/plain": [
       "array([5, 5, 5])"
      ]
     },
     "execution_count": 4,
     "metadata": {},
     "output_type": "execute_result"
    }
   ],
   "source": [
    "price =np.array([5, 5, 5])\n",
    "price"
   ]
  },
  {
   "cell_type": "code",
   "execution_count": 5,
   "id": "e2374b97",
   "metadata": {},
   "outputs": [
    {
     "data": {
      "text/plain": [
       "numpy.ndarray"
      ]
     },
     "execution_count": 5,
     "metadata": {},
     "output_type": "execute_result"
    }
   ],
   "source": [
    "type(price)"
   ]
  },
  {
   "cell_type": "code",
   "execution_count": 6,
   "id": "6ac03ebf",
   "metadata": {},
   "outputs": [
    {
     "data": {
      "text/plain": [
       "numpy.ndarray"
      ]
     },
     "execution_count": 6,
     "metadata": {},
     "output_type": "execute_result"
    }
   ],
   "source": [
    "type(food)"
   ]
  },
  {
   "cell_type": "code",
   "execution_count": 7,
   "id": "36214fcc",
   "metadata": {},
   "outputs": [
    {
     "data": {
      "text/plain": [
       "3"
      ]
     },
     "execution_count": 7,
     "metadata": {},
     "output_type": "execute_result"
    }
   ],
   "source": [
    "len(food)"
   ]
  },
  {
   "cell_type": "code",
   "execution_count": 8,
   "id": "e8b586cf",
   "metadata": {},
   "outputs": [
    {
     "data": {
      "text/plain": [
       "5"
      ]
     },
     "execution_count": 8,
     "metadata": {},
     "output_type": "execute_result"
    }
   ],
   "source": [
    "price[2]"
   ]
  },
  {
   "cell_type": "code",
   "execution_count": 9,
   "id": "7dbf060e",
   "metadata": {},
   "outputs": [
    {
     "data": {
      "text/plain": [
       "array([5, 5, 5])"
      ]
     },
     "execution_count": 9,
     "metadata": {},
     "output_type": "execute_result"
    }
   ],
   "source": [
    "price[0:]"
   ]
  },
  {
   "cell_type": "code",
   "execution_count": 10,
   "id": "3b63d029",
   "metadata": {},
   "outputs": [
    {
     "data": {
      "text/plain": [
       "array([0., 0., 0., 0., 0., 0.])"
      ]
     },
     "execution_count": 10,
     "metadata": {},
     "output_type": "execute_result"
    }
   ],
   "source": [
    "# zeros\n",
    "np.zeros(6)"
   ]
  },
  {
   "cell_type": "code",
   "execution_count": 11,
   "id": "809cb5ae",
   "metadata": {},
   "outputs": [
    {
     "data": {
      "text/plain": [
       "array([1., 1., 1., 1., 1.])"
      ]
     },
     "execution_count": 11,
     "metadata": {},
     "output_type": "execute_result"
    }
   ],
   "source": [
    "#ones\n",
    "np.ones(5)"
   ]
  },
  {
   "cell_type": "code",
   "execution_count": 12,
   "id": "768b64a6",
   "metadata": {},
   "outputs": [
    {
     "data": {
      "text/plain": [
       "array([0., 0., 0., 0., 0., 0.])"
      ]
     },
     "execution_count": 12,
     "metadata": {},
     "output_type": "execute_result"
    }
   ],
   "source": [
    "#empty\n",
    "np.empty(6)"
   ]
  },
  {
   "cell_type": "code",
   "execution_count": 13,
   "id": "06a41758",
   "metadata": {},
   "outputs": [
    {
     "data": {
      "text/plain": [
       "array([0, 1, 2, 3, 4, 5, 6, 7, 8, 9])"
      ]
     },
     "execution_count": 13,
     "metadata": {},
     "output_type": "execute_result"
    }
   ],
   "source": [
    "#arange\n",
    "np.arange(10)"
   ]
  },
  {
   "cell_type": "code",
   "execution_count": 14,
   "id": "c8c3cd5e",
   "metadata": {},
   "outputs": [
    {
     "data": {
      "text/plain": [
       "array([ 2,  3,  4,  5,  6,  7,  8,  9, 10, 11, 12, 13, 14, 15, 16, 17, 18,\n",
       "       19])"
      ]
     },
     "execution_count": 14,
     "metadata": {},
     "output_type": "execute_result"
    }
   ],
   "source": [
    "#specify arange\n",
    "np.arange(2, 20)"
   ]
  },
  {
   "cell_type": "code",
   "execution_count": 15,
   "id": "e2856872",
   "metadata": {},
   "outputs": [
    {
     "data": {
      "text/plain": [
       "array([ 2,  4,  6,  8, 10, 12, 14, 16, 18])"
      ]
     },
     "execution_count": 15,
     "metadata": {},
     "output_type": "execute_result"
    }
   ],
   "source": [
    "#specific arange with specific interval\n",
    "np.arange(2, 20, 2)"
   ]
  },
  {
   "cell_type": "code",
   "execution_count": 16,
   "id": "b13868f4",
   "metadata": {},
   "outputs": [
    {
     "data": {
      "text/plain": [
       "array([ 5, 10, 15, 20, 25, 30, 35, 40, 45, 50])"
      ]
     },
     "execution_count": 16,
     "metadata": {},
     "output_type": "execute_result"
    }
   ],
   "source": [
    "#table\n",
    "np.arange(5, 55, 5)"
   ]
  },
  {
   "cell_type": "code",
   "execution_count": 17,
   "id": "3018d2d9",
   "metadata": {},
   "outputs": [
    {
     "data": {
      "text/plain": [
       "array([  1.,  12.,  23.,  34.,  45.,  56.,  67.,  78.,  89., 100.])"
      ]
     },
     "execution_count": 17,
     "metadata": {},
     "output_type": "execute_result"
    }
   ],
   "source": [
    "#specific line space\n",
    "np.linspace(1, 100, num=10)"
   ]
  },
  {
   "cell_type": "code",
   "execution_count": 18,
   "id": "8448b2a4",
   "metadata": {},
   "outputs": [
    {
     "data": {
      "text/plain": [
       "array([ 1.  ,  3.25,  5.5 ,  7.75, 10.  ])"
      ]
     },
     "execution_count": 18,
     "metadata": {},
     "output_type": "execute_result"
    }
   ],
   "source": [
    "np.linspace(1, 10, num=5)"
   ]
  },
  {
   "cell_type": "code",
   "execution_count": 19,
   "id": "0ad077ad",
   "metadata": {},
   "outputs": [
    {
     "data": {
      "text/plain": [
       "array([1, 1, 1, 1, 1], dtype=int64)"
      ]
     },
     "execution_count": 19,
     "metadata": {},
     "output_type": "execute_result"
    }
   ],
   "source": [
    "#specify data type\n",
    "np.ones(5, dtype=np.int64)"
   ]
  },
  {
   "cell_type": "code",
   "execution_count": 20,
   "id": "8338ff31",
   "metadata": {},
   "outputs": [
    {
     "data": {
      "text/plain": [
       "array([1., 1., 1., 1., 1.])"
      ]
     },
     "execution_count": 20,
     "metadata": {},
     "output_type": "execute_result"
    }
   ],
   "source": [
    "np.ones(5, dtype=np.float64)"
   ]
  },
  {
   "cell_type": "markdown",
   "id": "8bf589d1",
   "metadata": {},
   "source": [
    "### Array function"
   ]
  },
  {
   "cell_type": "code",
   "execution_count": 21,
   "id": "4823818d",
   "metadata": {},
   "outputs": [
    {
     "data": {
      "text/plain": [
       "array([ 10. ,  12. ,  15. ,   2. ,   4. ,   6. , 100. , 320. ,   0.5,\n",
       "        10.3])"
      ]
     },
     "execution_count": 21,
     "metadata": {},
     "output_type": "execute_result"
    }
   ],
   "source": [
    "a =np.array([10, 12, 15, 2, 4, 6, 100, 320, 0.5, 10.3])\n",
    "a"
   ]
  },
  {
   "cell_type": "code",
   "execution_count": 22,
   "id": "cb88df8e",
   "metadata": {},
   "outputs": [
    {
     "data": {
      "text/plain": [
       "array([  0.5,   2. ,   4. ,   6. ,  10. ,  10.3,  12. ,  15. , 100. ,\n",
       "       320. ])"
      ]
     },
     "execution_count": 22,
     "metadata": {},
     "output_type": "execute_result"
    }
   ],
   "source": [
    "a.sort()\n",
    "a"
   ]
  },
  {
   "cell_type": "code",
   "execution_count": 23,
   "id": "ed57b133",
   "metadata": {},
   "outputs": [
    {
     "data": {
      "text/plain": [
       "array([10. ,  2. ,  3.5, 53.6, 91.6, 45.5])"
      ]
     },
     "execution_count": 23,
     "metadata": {},
     "output_type": "execute_result"
    }
   ],
   "source": [
    "b =np.array([10, 2, 3.5, 53.6, 91.6, 45.5])\n",
    "b"
   ]
  },
  {
   "cell_type": "code",
   "execution_count": 24,
   "id": "27fe699b",
   "metadata": {},
   "outputs": [
    {
     "data": {
      "text/plain": [
       "array([  0.5,   2. ,   4. ,   6. ,  10. ,  10.3,  12. ,  15. , 100. ,\n",
       "       320. ,  10. ,   2. ,   3.5,  53.6,  91.6,  45.5])"
      ]
     },
     "execution_count": 24,
     "metadata": {},
     "output_type": "execute_result"
    }
   ],
   "source": [
    "c =np.concatenate((a,b))\n",
    "c"
   ]
  },
  {
   "cell_type": "code",
   "execution_count": 25,
   "id": "27362970",
   "metadata": {},
   "outputs": [
    {
     "data": {
      "text/plain": [
       "array([  0.5,   2. ,   2. ,   3.5,   4. ,   6. ,  10. ,  10. ,  10.3,\n",
       "        12. ,  15. ,  45.5,  53.6,  91.6, 100. , 320. ])"
      ]
     },
     "execution_count": 25,
     "metadata": {},
     "output_type": "execute_result"
    }
   ],
   "source": [
    "c.sort()\n",
    "c"
   ]
  },
  {
   "cell_type": "markdown",
   "id": "c4b5a2a8",
   "metadata": {},
   "source": [
    "### 2-D array"
   ]
  },
  {
   "cell_type": "code",
   "execution_count": 26,
   "id": "4dabd54f",
   "metadata": {},
   "outputs": [
    {
     "data": {
      "text/plain": [
       "array([[1, 2, 3, 4],\n",
       "       [4, 3, 2, 1]])"
      ]
     },
     "execution_count": 26,
     "metadata": {},
     "output_type": "execute_result"
    }
   ],
   "source": [
    "a =np.array([[1, 2, 3, 4], [4, 3, 2, 1]])\n",
    "a"
   ]
  },
  {
   "cell_type": "code",
   "execution_count": 27,
   "id": "614c9317",
   "metadata": {},
   "outputs": [
    {
     "data": {
      "text/plain": [
       "array([[6, 7, 8, 9],\n",
       "       [9, 8, 7, 6]])"
      ]
     },
     "execution_count": 27,
     "metadata": {},
     "output_type": "execute_result"
    }
   ],
   "source": [
    "b =np.array([[6, 7, 8, 9], [9, 8, 7, 6]])\n",
    "b"
   ]
  },
  {
   "cell_type": "code",
   "execution_count": 28,
   "id": "45b5e587",
   "metadata": {},
   "outputs": [
    {
     "data": {
      "text/plain": [
       "array([[1, 2, 3, 4],\n",
       "       [4, 3, 2, 1],\n",
       "       [6, 7, 8, 9],\n",
       "       [9, 8, 7, 6]])"
      ]
     },
     "execution_count": 28,
     "metadata": {},
     "output_type": "execute_result"
    }
   ],
   "source": [
    "c =np.concatenate((a, b), axis=0)\n",
    "c"
   ]
  },
  {
   "cell_type": "code",
   "execution_count": 29,
   "id": "3bd34c90",
   "metadata": {},
   "outputs": [
    {
     "data": {
      "text/plain": [
       "2"
      ]
     },
     "execution_count": 29,
     "metadata": {},
     "output_type": "execute_result"
    }
   ],
   "source": [
    "# num of dimension\n",
    "c.ndim"
   ]
  },
  {
   "cell_type": "code",
   "execution_count": 30,
   "id": "6da08435",
   "metadata": {},
   "outputs": [
    {
     "data": {
      "text/plain": [
       "array([[ 5,  6,  7],\n",
       "       [ 8,  9, 10],\n",
       "       [11, 12, 13]])"
      ]
     },
     "execution_count": 30,
     "metadata": {},
     "output_type": "execute_result"
    }
   ],
   "source": [
    "d =np.array([[5, 6, 7],\n",
    "            [8, 9, 10],\n",
    "            [11, 12, 13]])\n",
    "d"
   ]
  },
  {
   "cell_type": "code",
   "execution_count": 31,
   "id": "cb718b17",
   "metadata": {},
   "outputs": [
    {
     "data": {
      "text/plain": [
       "2"
      ]
     },
     "execution_count": 31,
     "metadata": {},
     "output_type": "execute_result"
    }
   ],
   "source": [
    "d.ndim"
   ]
  },
  {
   "cell_type": "code",
   "execution_count": 32,
   "id": "de3ad8b8",
   "metadata": {},
   "outputs": [
    {
     "data": {
      "text/plain": [
       "9"
      ]
     },
     "execution_count": 32,
     "metadata": {},
     "output_type": "execute_result"
    }
   ],
   "source": [
    "# number of elements\n",
    "d.size"
   ]
  },
  {
   "cell_type": "code",
   "execution_count": 33,
   "id": "c973bd35",
   "metadata": {},
   "outputs": [
    {
     "data": {
      "text/plain": [
       "(4, 4)"
      ]
     },
     "execution_count": 33,
     "metadata": {},
     "output_type": "execute_result"
    }
   ],
   "source": [
    "# shape of element\n",
    "c.shape"
   ]
  },
  {
   "cell_type": "code",
   "execution_count": 34,
   "id": "0df23e37",
   "metadata": {},
   "outputs": [
    {
     "data": {
      "text/plain": [
       "array([0, 1, 2, 3, 4, 5, 6, 7, 8])"
      ]
     },
     "execution_count": 34,
     "metadata": {},
     "output_type": "execute_result"
    }
   ],
   "source": [
    "a =np.arange(9) #3*3\n",
    "a"
   ]
  },
  {
   "cell_type": "code",
   "execution_count": 35,
   "id": "d2dd7cb0",
   "metadata": {},
   "outputs": [
    {
     "data": {
      "text/plain": [
       "array([[0, 1, 2],\n",
       "       [3, 4, 5],\n",
       "       [6, 7, 8]])"
      ]
     },
     "execution_count": 35,
     "metadata": {},
     "output_type": "execute_result"
    }
   ],
   "source": [
    "#reshape\n",
    "b =a.reshape(3,3)  # 3*3=9\n",
    "b"
   ]
  },
  {
   "cell_type": "code",
   "execution_count": 36,
   "id": "3431c19a",
   "metadata": {},
   "outputs": [
    {
     "data": {
      "text/plain": [
       "array([[0, 1, 2, 3, 4, 5, 6, 7, 8]])"
      ]
     },
     "execution_count": 36,
     "metadata": {},
     "output_type": "execute_result"
    }
   ],
   "source": [
    "#reshape\n",
    "np.reshape(a, newshape=(1,9), order =\"C\")"
   ]
  },
  {
   "cell_type": "code",
   "execution_count": 37,
   "id": "27981caa",
   "metadata": {},
   "outputs": [
    {
     "data": {
      "text/plain": [
       "array([1, 2, 3, 4, 5, 6, 7, 8, 9])"
      ]
     },
     "execution_count": 37,
     "metadata": {},
     "output_type": "execute_result"
    }
   ],
   "source": [
    "# convert 1D into 2D\n",
    "a =np.array([1, 2, 3, 4, 5, 6, 7, 8, 9])\n",
    "a"
   ]
  },
  {
   "cell_type": "code",
   "execution_count": 38,
   "id": "0c9bdd06",
   "metadata": {},
   "outputs": [
    {
     "data": {
      "text/plain": [
       "array([[1, 2, 3, 4, 5, 6, 7, 8, 9]])"
      ]
     },
     "execution_count": 38,
     "metadata": {},
     "output_type": "execute_result"
    }
   ],
   "source": [
    "# row wise conversion\n",
    "b =a[np.newaxis, :]\n",
    "b"
   ]
  },
  {
   "cell_type": "code",
   "execution_count": 39,
   "id": "8584021d",
   "metadata": {},
   "outputs": [
    {
     "data": {
      "text/plain": [
       "(1, 9)"
      ]
     },
     "execution_count": 39,
     "metadata": {},
     "output_type": "execute_result"
    }
   ],
   "source": [
    "b.shape"
   ]
  },
  {
   "cell_type": "code",
   "execution_count": 40,
   "id": "f59060c7",
   "metadata": {},
   "outputs": [
    {
     "data": {
      "text/plain": [
       "array([[1],\n",
       "       [2],\n",
       "       [3],\n",
       "       [4],\n",
       "       [5],\n",
       "       [6],\n",
       "       [7],\n",
       "       [8],\n",
       "       [9]])"
      ]
     },
     "execution_count": 40,
     "metadata": {},
     "output_type": "execute_result"
    }
   ],
   "source": [
    "# coloumn wise conversion\n",
    "c =a[:, np.newaxis]\n",
    "c"
   ]
  },
  {
   "cell_type": "markdown",
   "id": "b35e4a3f",
   "metadata": {},
   "source": [
    "# Pandas"
   ]
  },
  {
   "cell_type": "code",
   "execution_count": null,
   "id": "cca012ac",
   "metadata": {},
   "outputs": [],
   "source": [
    "#pip install pandas"
   ]
  },
  {
   "cell_type": "code",
   "execution_count": 43,
   "id": "99b37ab8",
   "metadata": {},
   "outputs": [],
   "source": [
    "# import libraries\n",
    "import pandas as pd"
   ]
  },
  {
   "cell_type": "code",
   "execution_count": 44,
   "id": "31df0a5a",
   "metadata": {},
   "outputs": [
    {
     "data": {
      "text/plain": [
       "0    1.0\n",
       "1    3.5\n",
       "2    7.0\n",
       "3    8.0\n",
       "4    9.0\n",
       "dtype: float64"
      ]
     },
     "execution_count": 44,
     "metadata": {},
     "output_type": "execute_result"
    }
   ],
   "source": [
    "# Object creation\n",
    "s =pd.Series([1,3.5,7,8,9])\n",
    "s"
   ]
  },
  {
   "cell_type": "code",
   "execution_count": 45,
   "id": "eebd9397",
   "metadata": {},
   "outputs": [
    {
     "data": {
      "text/plain": [
       "0    1.0\n",
       "1    3.0\n",
       "2    NaN\n",
       "3    5.0\n",
       "4    7.0\n",
       "5    8.0\n",
       "6    9.0\n",
       "dtype: float64"
      ]
     },
     "execution_count": 45,
     "metadata": {},
     "output_type": "execute_result"
    }
   ],
   "source": [
    "s =pd.Series([1,3,np.nan ,5,7,8,9])\n",
    "s"
   ]
  },
  {
   "cell_type": "code",
   "execution_count": 46,
   "id": "5c932844",
   "metadata": {},
   "outputs": [
    {
     "data": {
      "text/plain": [
       "DatetimeIndex(['2022-01-01', '2022-01-02', '2022-01-03', '2022-01-04',\n",
       "               '2022-01-05', '2022-01-06'],\n",
       "              dtype='datetime64[ns]', freq='D')"
      ]
     },
     "execution_count": 46,
     "metadata": {},
     "output_type": "execute_result"
    }
   ],
   "source": [
    "dates = pd.date_range(\"20220101\", periods =6)\n",
    "dates"
   ]
  },
  {
   "cell_type": "code",
   "execution_count": 47,
   "id": "0aa635c6",
   "metadata": {},
   "outputs": [
    {
     "data": {
      "text/html": [
       "<div>\n",
       "<style scoped>\n",
       "    .dataframe tbody tr th:only-of-type {\n",
       "        vertical-align: middle;\n",
       "    }\n",
       "\n",
       "    .dataframe tbody tr th {\n",
       "        vertical-align: top;\n",
       "    }\n",
       "\n",
       "    .dataframe thead th {\n",
       "        text-align: right;\n",
       "    }\n",
       "</style>\n",
       "<table border=\"1\" class=\"dataframe\">\n",
       "  <thead>\n",
       "    <tr style=\"text-align: right;\">\n",
       "      <th></th>\n",
       "      <th>A</th>\n",
       "      <th>B</th>\n",
       "      <th>C</th>\n",
       "      <th>D</th>\n",
       "    </tr>\n",
       "  </thead>\n",
       "  <tbody>\n",
       "    <tr>\n",
       "      <th>2022-01-01</th>\n",
       "      <td>-0.524479</td>\n",
       "      <td>-0.590006</td>\n",
       "      <td>0.182707</td>\n",
       "      <td>-1.239319</td>\n",
       "    </tr>\n",
       "    <tr>\n",
       "      <th>2022-01-02</th>\n",
       "      <td>0.350771</td>\n",
       "      <td>-2.595268</td>\n",
       "      <td>-1.671142</td>\n",
       "      <td>-1.359675</td>\n",
       "    </tr>\n",
       "    <tr>\n",
       "      <th>2022-01-03</th>\n",
       "      <td>0.381263</td>\n",
       "      <td>0.833392</td>\n",
       "      <td>-0.411365</td>\n",
       "      <td>-0.960717</td>\n",
       "    </tr>\n",
       "    <tr>\n",
       "      <th>2022-01-04</th>\n",
       "      <td>-0.842862</td>\n",
       "      <td>1.386791</td>\n",
       "      <td>0.206450</td>\n",
       "      <td>0.029339</td>\n",
       "    </tr>\n",
       "    <tr>\n",
       "      <th>2022-01-05</th>\n",
       "      <td>0.717486</td>\n",
       "      <td>-0.319246</td>\n",
       "      <td>-0.636587</td>\n",
       "      <td>0.144066</td>\n",
       "    </tr>\n",
       "    <tr>\n",
       "      <th>2022-01-06</th>\n",
       "      <td>-1.072817</td>\n",
       "      <td>-0.430672</td>\n",
       "      <td>0.647343</td>\n",
       "      <td>2.160436</td>\n",
       "    </tr>\n",
       "  </tbody>\n",
       "</table>\n",
       "</div>"
      ],
      "text/plain": [
       "                   A         B         C         D\n",
       "2022-01-01 -0.524479 -0.590006  0.182707 -1.239319\n",
       "2022-01-02  0.350771 -2.595268 -1.671142 -1.359675\n",
       "2022-01-03  0.381263  0.833392 -0.411365 -0.960717\n",
       "2022-01-04 -0.842862  1.386791  0.206450  0.029339\n",
       "2022-01-05  0.717486 -0.319246 -0.636587  0.144066\n",
       "2022-01-06 -1.072817 -0.430672  0.647343  2.160436"
      ]
     },
     "execution_count": 47,
     "metadata": {},
     "output_type": "execute_result"
    }
   ],
   "source": [
    "df = pd.DataFrame(np.random.randn(6,4), index=dates, columns=list(\"ABCD\"))\n",
    "df"
   ]
  },
  {
   "cell_type": "code",
   "execution_count": 48,
   "id": "3df1884b",
   "metadata": {},
   "outputs": [
    {
     "data": {
      "text/html": [
       "<div>\n",
       "<style scoped>\n",
       "    .dataframe tbody tr th:only-of-type {\n",
       "        vertical-align: middle;\n",
       "    }\n",
       "\n",
       "    .dataframe tbody tr th {\n",
       "        vertical-align: top;\n",
       "    }\n",
       "\n",
       "    .dataframe thead th {\n",
       "        text-align: right;\n",
       "    }\n",
       "</style>\n",
       "<table border=\"1\" class=\"dataframe\">\n",
       "  <thead>\n",
       "    <tr style=\"text-align: right;\">\n",
       "      <th></th>\n",
       "      <th>A</th>\n",
       "      <th>B</th>\n",
       "      <th>C</th>\n",
       "      <th>D</th>\n",
       "      <th>E</th>\n",
       "      <th>F</th>\n",
       "    </tr>\n",
       "  </thead>\n",
       "  <tbody>\n",
       "    <tr>\n",
       "      <th>0</th>\n",
       "      <td>1.0</td>\n",
       "      <td>2022-01-02</td>\n",
       "      <td>1.0</td>\n",
       "      <td>3</td>\n",
       "      <td>boy</td>\n",
       "      <td>males</td>\n",
       "    </tr>\n",
       "    <tr>\n",
       "      <th>1</th>\n",
       "      <td>1.0</td>\n",
       "      <td>2022-01-02</td>\n",
       "      <td>1.0</td>\n",
       "      <td>3</td>\n",
       "      <td>man</td>\n",
       "      <td>males</td>\n",
       "    </tr>\n",
       "    <tr>\n",
       "      <th>2</th>\n",
       "      <td>1.0</td>\n",
       "      <td>2022-01-02</td>\n",
       "      <td>1.0</td>\n",
       "      <td>3</td>\n",
       "      <td>boy</td>\n",
       "      <td>males</td>\n",
       "    </tr>\n",
       "    <tr>\n",
       "      <th>3</th>\n",
       "      <td>1.0</td>\n",
       "      <td>2022-01-02</td>\n",
       "      <td>1.0</td>\n",
       "      <td>3</td>\n",
       "      <td>man</td>\n",
       "      <td>males</td>\n",
       "    </tr>\n",
       "  </tbody>\n",
       "</table>\n",
       "</div>"
      ],
      "text/plain": [
       "     A          B    C  D    E      F\n",
       "0  1.0 2022-01-02  1.0  3  boy  males\n",
       "1  1.0 2022-01-02  1.0  3  man  males\n",
       "2  1.0 2022-01-02  1.0  3  boy  males\n",
       "3  1.0 2022-01-02  1.0  3  man  males"
      ]
     },
     "execution_count": 48,
     "metadata": {},
     "output_type": "execute_result"
    }
   ],
   "source": [
    "df2 = pd.DataFrame(\n",
    "    {\n",
    "        \"A\": 1.0,\n",
    "        \"B\": pd.Timestamp(\"20220102\"),\n",
    "        \"C\": pd.Series(1, index=list(range(4)), dtype=\"float32\"),\n",
    "        \"D\": np.array([3] * 4, dtype=\"int32\"),\n",
    "        \"E\": pd.Categorical([\"boy\", \"man\",\"boy\",\"man\"]),\n",
    "        \"F\": \"males\",\n",
    "    }\n",
    ")\n",
    "df2"
   ]
  },
  {
   "cell_type": "code",
   "execution_count": 49,
   "id": "effd045c",
   "metadata": {},
   "outputs": [
    {
     "data": {
      "text/plain": [
       "A           float64\n",
       "B    datetime64[ns]\n",
       "C           float32\n",
       "D             int32\n",
       "E          category\n",
       "F            object\n",
       "dtype: object"
      ]
     },
     "execution_count": 49,
     "metadata": {},
     "output_type": "execute_result"
    }
   ],
   "source": [
    "df2.dtypes"
   ]
  },
  {
   "cell_type": "code",
   "execution_count": 50,
   "id": "9daaed6e",
   "metadata": {},
   "outputs": [
    {
     "data": {
      "text/html": [
       "<div>\n",
       "<style scoped>\n",
       "    .dataframe tbody tr th:only-of-type {\n",
       "        vertical-align: middle;\n",
       "    }\n",
       "\n",
       "    .dataframe tbody tr th {\n",
       "        vertical-align: top;\n",
       "    }\n",
       "\n",
       "    .dataframe thead th {\n",
       "        text-align: right;\n",
       "    }\n",
       "</style>\n",
       "<table border=\"1\" class=\"dataframe\">\n",
       "  <thead>\n",
       "    <tr style=\"text-align: right;\">\n",
       "      <th></th>\n",
       "      <th>A</th>\n",
       "      <th>B</th>\n",
       "      <th>C</th>\n",
       "      <th>D</th>\n",
       "    </tr>\n",
       "  </thead>\n",
       "  <tbody>\n",
       "    <tr>\n",
       "      <th>2022-01-01</th>\n",
       "      <td>-0.524479</td>\n",
       "      <td>-0.590006</td>\n",
       "      <td>0.182707</td>\n",
       "      <td>-1.239319</td>\n",
       "    </tr>\n",
       "    <tr>\n",
       "      <th>2022-01-02</th>\n",
       "      <td>0.350771</td>\n",
       "      <td>-2.595268</td>\n",
       "      <td>-1.671142</td>\n",
       "      <td>-1.359675</td>\n",
       "    </tr>\n",
       "  </tbody>\n",
       "</table>\n",
       "</div>"
      ],
      "text/plain": [
       "                   A         B         C         D\n",
       "2022-01-01 -0.524479 -0.590006  0.182707 -1.239319\n",
       "2022-01-02  0.350771 -2.595268 -1.671142 -1.359675"
      ]
     },
     "execution_count": 50,
     "metadata": {},
     "output_type": "execute_result"
    }
   ],
   "source": [
    "df.head(2)"
   ]
  },
  {
   "cell_type": "code",
   "execution_count": 51,
   "id": "2d7c907b",
   "metadata": {},
   "outputs": [
    {
     "data": {
      "text/html": [
       "<div>\n",
       "<style scoped>\n",
       "    .dataframe tbody tr th:only-of-type {\n",
       "        vertical-align: middle;\n",
       "    }\n",
       "\n",
       "    .dataframe tbody tr th {\n",
       "        vertical-align: top;\n",
       "    }\n",
       "\n",
       "    .dataframe thead th {\n",
       "        text-align: right;\n",
       "    }\n",
       "</style>\n",
       "<table border=\"1\" class=\"dataframe\">\n",
       "  <thead>\n",
       "    <tr style=\"text-align: right;\">\n",
       "      <th></th>\n",
       "      <th>A</th>\n",
       "      <th>B</th>\n",
       "      <th>C</th>\n",
       "      <th>D</th>\n",
       "    </tr>\n",
       "  </thead>\n",
       "  <tbody>\n",
       "    <tr>\n",
       "      <th>2022-01-05</th>\n",
       "      <td>0.717486</td>\n",
       "      <td>-0.319246</td>\n",
       "      <td>-0.636587</td>\n",
       "      <td>0.144066</td>\n",
       "    </tr>\n",
       "    <tr>\n",
       "      <th>2022-01-06</th>\n",
       "      <td>-1.072817</td>\n",
       "      <td>-0.430672</td>\n",
       "      <td>0.647343</td>\n",
       "      <td>2.160436</td>\n",
       "    </tr>\n",
       "  </tbody>\n",
       "</table>\n",
       "</div>"
      ],
      "text/plain": [
       "                   A         B         C         D\n",
       "2022-01-05  0.717486 -0.319246 -0.636587  0.144066\n",
       "2022-01-06 -1.072817 -0.430672  0.647343  2.160436"
      ]
     },
     "execution_count": 51,
     "metadata": {},
     "output_type": "execute_result"
    }
   ],
   "source": [
    "df.tail(2)"
   ]
  },
  {
   "cell_type": "code",
   "execution_count": 52,
   "id": "3f4b9149",
   "metadata": {},
   "outputs": [
    {
     "data": {
      "text/plain": [
       "DatetimeIndex(['2022-01-01', '2022-01-02', '2022-01-03', '2022-01-04',\n",
       "               '2022-01-05', '2022-01-06'],\n",
       "              dtype='datetime64[ns]', freq='D')"
      ]
     },
     "execution_count": 52,
     "metadata": {},
     "output_type": "execute_result"
    }
   ],
   "source": [
    "df.index"
   ]
  },
  {
   "cell_type": "code",
   "execution_count": 53,
   "id": "b2298ddf",
   "metadata": {},
   "outputs": [
    {
     "data": {
      "text/plain": [
       "Int64Index([0, 1, 2, 3], dtype='int64')"
      ]
     },
     "execution_count": 53,
     "metadata": {},
     "output_type": "execute_result"
    }
   ],
   "source": [
    "df2.index"
   ]
  },
  {
   "cell_type": "code",
   "execution_count": 54,
   "id": "f17e8db5",
   "metadata": {},
   "outputs": [
    {
     "data": {
      "text/plain": [
       "array([[-0.52447852, -0.59000581,  0.18270684, -1.23931917],\n",
       "       [ 0.35077071, -2.59526766, -1.6711424 , -1.35967511],\n",
       "       [ 0.38126327,  0.83339227, -0.41136529, -0.96071664],\n",
       "       [-0.84286235,  1.38679112,  0.20645029,  0.02933939],\n",
       "       [ 0.71748631, -0.31924597, -0.63658667,  0.14406622],\n",
       "       [-1.07281689, -0.43067223,  0.64734346,  2.16043557]])"
      ]
     },
     "execution_count": 54,
     "metadata": {},
     "output_type": "execute_result"
    }
   ],
   "source": [
    "df.to_numpy()"
   ]
  },
  {
   "cell_type": "code",
   "execution_count": 55,
   "id": "0845b889",
   "metadata": {},
   "outputs": [
    {
     "data": {
      "text/plain": [
       "array([[1.0, Timestamp('2022-01-02 00:00:00'), 1.0, 3, 'boy', 'males'],\n",
       "       [1.0, Timestamp('2022-01-02 00:00:00'), 1.0, 3, 'man', 'males'],\n",
       "       [1.0, Timestamp('2022-01-02 00:00:00'), 1.0, 3, 'boy', 'males'],\n",
       "       [1.0, Timestamp('2022-01-02 00:00:00'), 1.0, 3, 'man', 'males']],\n",
       "      dtype=object)"
      ]
     },
     "execution_count": 55,
     "metadata": {},
     "output_type": "execute_result"
    }
   ],
   "source": [
    "df2.to_numpy()"
   ]
  },
  {
   "cell_type": "code",
   "execution_count": 56,
   "id": "87865883",
   "metadata": {},
   "outputs": [
    {
     "data": {
      "text/html": [
       "<div>\n",
       "<style scoped>\n",
       "    .dataframe tbody tr th:only-of-type {\n",
       "        vertical-align: middle;\n",
       "    }\n",
       "\n",
       "    .dataframe tbody tr th {\n",
       "        vertical-align: top;\n",
       "    }\n",
       "\n",
       "    .dataframe thead th {\n",
       "        text-align: right;\n",
       "    }\n",
       "</style>\n",
       "<table border=\"1\" class=\"dataframe\">\n",
       "  <thead>\n",
       "    <tr style=\"text-align: right;\">\n",
       "      <th></th>\n",
       "      <th>A</th>\n",
       "      <th>B</th>\n",
       "      <th>C</th>\n",
       "      <th>D</th>\n",
       "    </tr>\n",
       "  </thead>\n",
       "  <tbody>\n",
       "    <tr>\n",
       "      <th>count</th>\n",
       "      <td>6.000000</td>\n",
       "      <td>6.000000</td>\n",
       "      <td>6.000000</td>\n",
       "      <td>6.000000</td>\n",
       "    </tr>\n",
       "    <tr>\n",
       "      <th>mean</th>\n",
       "      <td>-0.165106</td>\n",
       "      <td>-0.285835</td>\n",
       "      <td>-0.280432</td>\n",
       "      <td>-0.204312</td>\n",
       "    </tr>\n",
       "    <tr>\n",
       "      <th>std</th>\n",
       "      <td>0.742436</td>\n",
       "      <td>1.378292</td>\n",
       "      <td>0.823454</td>\n",
       "      <td>1.322592</td>\n",
       "    </tr>\n",
       "    <tr>\n",
       "      <th>min</th>\n",
       "      <td>-1.072817</td>\n",
       "      <td>-2.595268</td>\n",
       "      <td>-1.671142</td>\n",
       "      <td>-1.359675</td>\n",
       "    </tr>\n",
       "    <tr>\n",
       "      <th>25%</th>\n",
       "      <td>-0.763266</td>\n",
       "      <td>-0.550172</td>\n",
       "      <td>-0.580281</td>\n",
       "      <td>-1.169669</td>\n",
       "    </tr>\n",
       "    <tr>\n",
       "      <th>50%</th>\n",
       "      <td>-0.086854</td>\n",
       "      <td>-0.374959</td>\n",
       "      <td>-0.114329</td>\n",
       "      <td>-0.465689</td>\n",
       "    </tr>\n",
       "    <tr>\n",
       "      <th>75%</th>\n",
       "      <td>0.373640</td>\n",
       "      <td>0.545233</td>\n",
       "      <td>0.200514</td>\n",
       "      <td>0.115385</td>\n",
       "    </tr>\n",
       "    <tr>\n",
       "      <th>max</th>\n",
       "      <td>0.717486</td>\n",
       "      <td>1.386791</td>\n",
       "      <td>0.647343</td>\n",
       "      <td>2.160436</td>\n",
       "    </tr>\n",
       "  </tbody>\n",
       "</table>\n",
       "</div>"
      ],
      "text/plain": [
       "              A         B         C         D\n",
       "count  6.000000  6.000000  6.000000  6.000000\n",
       "mean  -0.165106 -0.285835 -0.280432 -0.204312\n",
       "std    0.742436  1.378292  0.823454  1.322592\n",
       "min   -1.072817 -2.595268 -1.671142 -1.359675\n",
       "25%   -0.763266 -0.550172 -0.580281 -1.169669\n",
       "50%   -0.086854 -0.374959 -0.114329 -0.465689\n",
       "75%    0.373640  0.545233  0.200514  0.115385\n",
       "max    0.717486  1.386791  0.647343  2.160436"
      ]
     },
     "execution_count": 56,
     "metadata": {},
     "output_type": "execute_result"
    }
   ],
   "source": [
    "df.describe()"
   ]
  },
  {
   "cell_type": "code",
   "execution_count": 57,
   "id": "e324fe87",
   "metadata": {},
   "outputs": [
    {
     "data": {
      "text/html": [
       "<div>\n",
       "<style scoped>\n",
       "    .dataframe tbody tr th:only-of-type {\n",
       "        vertical-align: middle;\n",
       "    }\n",
       "\n",
       "    .dataframe tbody tr th {\n",
       "        vertical-align: top;\n",
       "    }\n",
       "\n",
       "    .dataframe thead th {\n",
       "        text-align: right;\n",
       "    }\n",
       "</style>\n",
       "<table border=\"1\" class=\"dataframe\">\n",
       "  <thead>\n",
       "    <tr style=\"text-align: right;\">\n",
       "      <th></th>\n",
       "      <th>0</th>\n",
       "      <th>1</th>\n",
       "      <th>2</th>\n",
       "      <th>3</th>\n",
       "    </tr>\n",
       "  </thead>\n",
       "  <tbody>\n",
       "    <tr>\n",
       "      <th>A</th>\n",
       "      <td>1.0</td>\n",
       "      <td>1.0</td>\n",
       "      <td>1.0</td>\n",
       "      <td>1.0</td>\n",
       "    </tr>\n",
       "    <tr>\n",
       "      <th>B</th>\n",
       "      <td>2022-01-02 00:00:00</td>\n",
       "      <td>2022-01-02 00:00:00</td>\n",
       "      <td>2022-01-02 00:00:00</td>\n",
       "      <td>2022-01-02 00:00:00</td>\n",
       "    </tr>\n",
       "    <tr>\n",
       "      <th>C</th>\n",
       "      <td>1.0</td>\n",
       "      <td>1.0</td>\n",
       "      <td>1.0</td>\n",
       "      <td>1.0</td>\n",
       "    </tr>\n",
       "    <tr>\n",
       "      <th>D</th>\n",
       "      <td>3</td>\n",
       "      <td>3</td>\n",
       "      <td>3</td>\n",
       "      <td>3</td>\n",
       "    </tr>\n",
       "    <tr>\n",
       "      <th>E</th>\n",
       "      <td>boy</td>\n",
       "      <td>man</td>\n",
       "      <td>boy</td>\n",
       "      <td>man</td>\n",
       "    </tr>\n",
       "    <tr>\n",
       "      <th>F</th>\n",
       "      <td>males</td>\n",
       "      <td>males</td>\n",
       "      <td>males</td>\n",
       "      <td>males</td>\n",
       "    </tr>\n",
       "  </tbody>\n",
       "</table>\n",
       "</div>"
      ],
      "text/plain": [
       "                     0                    1                    2  \\\n",
       "A                  1.0                  1.0                  1.0   \n",
       "B  2022-01-02 00:00:00  2022-01-02 00:00:00  2022-01-02 00:00:00   \n",
       "C                  1.0                  1.0                  1.0   \n",
       "D                    3                    3                    3   \n",
       "E                  boy                  man                  boy   \n",
       "F                males                males                males   \n",
       "\n",
       "                     3  \n",
       "A                  1.0  \n",
       "B  2022-01-02 00:00:00  \n",
       "C                  1.0  \n",
       "D                    3  \n",
       "E                  man  \n",
       "F                males  "
      ]
     },
     "execution_count": 57,
     "metadata": {},
     "output_type": "execute_result"
    }
   ],
   "source": [
    "# to transport data\n",
    "df2.T"
   ]
  },
  {
   "cell_type": "code",
   "execution_count": 58,
   "id": "313f55d1",
   "metadata": {},
   "outputs": [
    {
     "data": {
      "text/html": [
       "<div>\n",
       "<style scoped>\n",
       "    .dataframe tbody tr th:only-of-type {\n",
       "        vertical-align: middle;\n",
       "    }\n",
       "\n",
       "    .dataframe tbody tr th {\n",
       "        vertical-align: top;\n",
       "    }\n",
       "\n",
       "    .dataframe thead th {\n",
       "        text-align: right;\n",
       "    }\n",
       "</style>\n",
       "<table border=\"1\" class=\"dataframe\">\n",
       "  <thead>\n",
       "    <tr style=\"text-align: right;\">\n",
       "      <th></th>\n",
       "      <th>A</th>\n",
       "      <th>B</th>\n",
       "      <th>C</th>\n",
       "      <th>D</th>\n",
       "    </tr>\n",
       "  </thead>\n",
       "  <tbody>\n",
       "    <tr>\n",
       "      <th>2022-01-01</th>\n",
       "      <td>-0.524479</td>\n",
       "      <td>-0.590006</td>\n",
       "      <td>0.182707</td>\n",
       "      <td>-1.239319</td>\n",
       "    </tr>\n",
       "    <tr>\n",
       "      <th>2022-01-02</th>\n",
       "      <td>0.350771</td>\n",
       "      <td>-2.595268</td>\n",
       "      <td>-1.671142</td>\n",
       "      <td>-1.359675</td>\n",
       "    </tr>\n",
       "    <tr>\n",
       "      <th>2022-01-03</th>\n",
       "      <td>0.381263</td>\n",
       "      <td>0.833392</td>\n",
       "      <td>-0.411365</td>\n",
       "      <td>-0.960717</td>\n",
       "    </tr>\n",
       "    <tr>\n",
       "      <th>2022-01-04</th>\n",
       "      <td>-0.842862</td>\n",
       "      <td>1.386791</td>\n",
       "      <td>0.206450</td>\n",
       "      <td>0.029339</td>\n",
       "    </tr>\n",
       "    <tr>\n",
       "      <th>2022-01-05</th>\n",
       "      <td>0.717486</td>\n",
       "      <td>-0.319246</td>\n",
       "      <td>-0.636587</td>\n",
       "      <td>0.144066</td>\n",
       "    </tr>\n",
       "    <tr>\n",
       "      <th>2022-01-06</th>\n",
       "      <td>-1.072817</td>\n",
       "      <td>-0.430672</td>\n",
       "      <td>0.647343</td>\n",
       "      <td>2.160436</td>\n",
       "    </tr>\n",
       "  </tbody>\n",
       "</table>\n",
       "</div>"
      ],
      "text/plain": [
       "                   A         B         C         D\n",
       "2022-01-01 -0.524479 -0.590006  0.182707 -1.239319\n",
       "2022-01-02  0.350771 -2.595268 -1.671142 -1.359675\n",
       "2022-01-03  0.381263  0.833392 -0.411365 -0.960717\n",
       "2022-01-04 -0.842862  1.386791  0.206450  0.029339\n",
       "2022-01-05  0.717486 -0.319246 -0.636587  0.144066\n",
       "2022-01-06 -1.072817 -0.430672  0.647343  2.160436"
      ]
     },
     "execution_count": 58,
     "metadata": {},
     "output_type": "execute_result"
    }
   ],
   "source": [
    "df.sort_index(axis=1, ascending=True)"
   ]
  },
  {
   "cell_type": "code",
   "execution_count": 59,
   "id": "72222d2a",
   "metadata": {},
   "outputs": [
    {
     "data": {
      "text/html": [
       "<div>\n",
       "<style scoped>\n",
       "    .dataframe tbody tr th:only-of-type {\n",
       "        vertical-align: middle;\n",
       "    }\n",
       "\n",
       "    .dataframe tbody tr th {\n",
       "        vertical-align: top;\n",
       "    }\n",
       "\n",
       "    .dataframe thead th {\n",
       "        text-align: right;\n",
       "    }\n",
       "</style>\n",
       "<table border=\"1\" class=\"dataframe\">\n",
       "  <thead>\n",
       "    <tr style=\"text-align: right;\">\n",
       "      <th></th>\n",
       "      <th>A</th>\n",
       "      <th>B</th>\n",
       "      <th>C</th>\n",
       "      <th>D</th>\n",
       "    </tr>\n",
       "  </thead>\n",
       "  <tbody>\n",
       "    <tr>\n",
       "      <th>2022-01-01</th>\n",
       "      <td>-0.524479</td>\n",
       "      <td>-0.590006</td>\n",
       "      <td>0.182707</td>\n",
       "      <td>-1.239319</td>\n",
       "    </tr>\n",
       "    <tr>\n",
       "      <th>2022-01-02</th>\n",
       "      <td>0.350771</td>\n",
       "      <td>-2.595268</td>\n",
       "      <td>-1.671142</td>\n",
       "      <td>-1.359675</td>\n",
       "    </tr>\n",
       "    <tr>\n",
       "      <th>2022-01-03</th>\n",
       "      <td>0.381263</td>\n",
       "      <td>0.833392</td>\n",
       "      <td>-0.411365</td>\n",
       "      <td>-0.960717</td>\n",
       "    </tr>\n",
       "    <tr>\n",
       "      <th>2022-01-04</th>\n",
       "      <td>-0.842862</td>\n",
       "      <td>1.386791</td>\n",
       "      <td>0.206450</td>\n",
       "      <td>0.029339</td>\n",
       "    </tr>\n",
       "    <tr>\n",
       "      <th>2022-01-05</th>\n",
       "      <td>0.717486</td>\n",
       "      <td>-0.319246</td>\n",
       "      <td>-0.636587</td>\n",
       "      <td>0.144066</td>\n",
       "    </tr>\n",
       "    <tr>\n",
       "      <th>2022-01-06</th>\n",
       "      <td>-1.072817</td>\n",
       "      <td>-0.430672</td>\n",
       "      <td>0.647343</td>\n",
       "      <td>2.160436</td>\n",
       "    </tr>\n",
       "  </tbody>\n",
       "</table>\n",
       "</div>"
      ],
      "text/plain": [
       "                   A         B         C         D\n",
       "2022-01-01 -0.524479 -0.590006  0.182707 -1.239319\n",
       "2022-01-02  0.350771 -2.595268 -1.671142 -1.359675\n",
       "2022-01-03  0.381263  0.833392 -0.411365 -0.960717\n",
       "2022-01-04 -0.842862  1.386791  0.206450  0.029339\n",
       "2022-01-05  0.717486 -0.319246 -0.636587  0.144066\n",
       "2022-01-06 -1.072817 -0.430672  0.647343  2.160436"
      ]
     },
     "execution_count": 59,
     "metadata": {},
     "output_type": "execute_result"
    }
   ],
   "source": [
    "df.sort_index(axis=0, ascending=True)"
   ]
  },
  {
   "cell_type": "code",
   "execution_count": 60,
   "id": "03ea44cb",
   "metadata": {},
   "outputs": [
    {
     "data": {
      "text/html": [
       "<div>\n",
       "<style scoped>\n",
       "    .dataframe tbody tr th:only-of-type {\n",
       "        vertical-align: middle;\n",
       "    }\n",
       "\n",
       "    .dataframe tbody tr th {\n",
       "        vertical-align: top;\n",
       "    }\n",
       "\n",
       "    .dataframe thead th {\n",
       "        text-align: right;\n",
       "    }\n",
       "</style>\n",
       "<table border=\"1\" class=\"dataframe\">\n",
       "  <thead>\n",
       "    <tr style=\"text-align: right;\">\n",
       "      <th></th>\n",
       "      <th>A</th>\n",
       "      <th>B</th>\n",
       "      <th>C</th>\n",
       "      <th>D</th>\n",
       "    </tr>\n",
       "  </thead>\n",
       "  <tbody>\n",
       "    <tr>\n",
       "      <th>2022-01-06</th>\n",
       "      <td>-1.072817</td>\n",
       "      <td>-0.430672</td>\n",
       "      <td>0.647343</td>\n",
       "      <td>2.160436</td>\n",
       "    </tr>\n",
       "    <tr>\n",
       "      <th>2022-01-05</th>\n",
       "      <td>0.717486</td>\n",
       "      <td>-0.319246</td>\n",
       "      <td>-0.636587</td>\n",
       "      <td>0.144066</td>\n",
       "    </tr>\n",
       "    <tr>\n",
       "      <th>2022-01-04</th>\n",
       "      <td>-0.842862</td>\n",
       "      <td>1.386791</td>\n",
       "      <td>0.206450</td>\n",
       "      <td>0.029339</td>\n",
       "    </tr>\n",
       "    <tr>\n",
       "      <th>2022-01-03</th>\n",
       "      <td>0.381263</td>\n",
       "      <td>0.833392</td>\n",
       "      <td>-0.411365</td>\n",
       "      <td>-0.960717</td>\n",
       "    </tr>\n",
       "    <tr>\n",
       "      <th>2022-01-02</th>\n",
       "      <td>0.350771</td>\n",
       "      <td>-2.595268</td>\n",
       "      <td>-1.671142</td>\n",
       "      <td>-1.359675</td>\n",
       "    </tr>\n",
       "    <tr>\n",
       "      <th>2022-01-01</th>\n",
       "      <td>-0.524479</td>\n",
       "      <td>-0.590006</td>\n",
       "      <td>0.182707</td>\n",
       "      <td>-1.239319</td>\n",
       "    </tr>\n",
       "  </tbody>\n",
       "</table>\n",
       "</div>"
      ],
      "text/plain": [
       "                   A         B         C         D\n",
       "2022-01-06 -1.072817 -0.430672  0.647343  2.160436\n",
       "2022-01-05  0.717486 -0.319246 -0.636587  0.144066\n",
       "2022-01-04 -0.842862  1.386791  0.206450  0.029339\n",
       "2022-01-03  0.381263  0.833392 -0.411365 -0.960717\n",
       "2022-01-02  0.350771 -2.595268 -1.671142 -1.359675\n",
       "2022-01-01 -0.524479 -0.590006  0.182707 -1.239319"
      ]
     },
     "execution_count": 60,
     "metadata": {},
     "output_type": "execute_result"
    }
   ],
   "source": [
    "df.sort_index(axis=0, ascending=False)"
   ]
  },
  {
   "cell_type": "code",
   "execution_count": 61,
   "id": "c0f604d8",
   "metadata": {},
   "outputs": [
    {
     "data": {
      "text/html": [
       "<div>\n",
       "<style scoped>\n",
       "    .dataframe tbody tr th:only-of-type {\n",
       "        vertical-align: middle;\n",
       "    }\n",
       "\n",
       "    .dataframe tbody tr th {\n",
       "        vertical-align: top;\n",
       "    }\n",
       "\n",
       "    .dataframe thead th {\n",
       "        text-align: right;\n",
       "    }\n",
       "</style>\n",
       "<table border=\"1\" class=\"dataframe\">\n",
       "  <thead>\n",
       "    <tr style=\"text-align: right;\">\n",
       "      <th></th>\n",
       "      <th>A</th>\n",
       "      <th>B</th>\n",
       "      <th>C</th>\n",
       "      <th>D</th>\n",
       "    </tr>\n",
       "  </thead>\n",
       "  <tbody>\n",
       "    <tr>\n",
       "      <th>2022-01-02</th>\n",
       "      <td>0.350771</td>\n",
       "      <td>-2.595268</td>\n",
       "      <td>-1.671142</td>\n",
       "      <td>-1.359675</td>\n",
       "    </tr>\n",
       "    <tr>\n",
       "      <th>2022-01-01</th>\n",
       "      <td>-0.524479</td>\n",
       "      <td>-0.590006</td>\n",
       "      <td>0.182707</td>\n",
       "      <td>-1.239319</td>\n",
       "    </tr>\n",
       "    <tr>\n",
       "      <th>2022-01-06</th>\n",
       "      <td>-1.072817</td>\n",
       "      <td>-0.430672</td>\n",
       "      <td>0.647343</td>\n",
       "      <td>2.160436</td>\n",
       "    </tr>\n",
       "    <tr>\n",
       "      <th>2022-01-05</th>\n",
       "      <td>0.717486</td>\n",
       "      <td>-0.319246</td>\n",
       "      <td>-0.636587</td>\n",
       "      <td>0.144066</td>\n",
       "    </tr>\n",
       "    <tr>\n",
       "      <th>2022-01-03</th>\n",
       "      <td>0.381263</td>\n",
       "      <td>0.833392</td>\n",
       "      <td>-0.411365</td>\n",
       "      <td>-0.960717</td>\n",
       "    </tr>\n",
       "    <tr>\n",
       "      <th>2022-01-04</th>\n",
       "      <td>-0.842862</td>\n",
       "      <td>1.386791</td>\n",
       "      <td>0.206450</td>\n",
       "      <td>0.029339</td>\n",
       "    </tr>\n",
       "  </tbody>\n",
       "</table>\n",
       "</div>"
      ],
      "text/plain": [
       "                   A         B         C         D\n",
       "2022-01-02  0.350771 -2.595268 -1.671142 -1.359675\n",
       "2022-01-01 -0.524479 -0.590006  0.182707 -1.239319\n",
       "2022-01-06 -1.072817 -0.430672  0.647343  2.160436\n",
       "2022-01-05  0.717486 -0.319246 -0.636587  0.144066\n",
       "2022-01-03  0.381263  0.833392 -0.411365 -0.960717\n",
       "2022-01-04 -0.842862  1.386791  0.206450  0.029339"
      ]
     },
     "execution_count": 61,
     "metadata": {},
     "output_type": "execute_result"
    }
   ],
   "source": [
    "df.sort_values(by=\"B\")"
   ]
  },
  {
   "cell_type": "code",
   "execution_count": 62,
   "id": "24677448",
   "metadata": {},
   "outputs": [
    {
     "data": {
      "text/plain": [
       "2022-01-01   -0.524479\n",
       "2022-01-02    0.350771\n",
       "2022-01-03    0.381263\n",
       "2022-01-04   -0.842862\n",
       "2022-01-05    0.717486\n",
       "2022-01-06   -1.072817\n",
       "Freq: D, Name: A, dtype: float64"
      ]
     },
     "execution_count": 62,
     "metadata": {},
     "output_type": "execute_result"
    }
   ],
   "source": [
    "# sorting - filtering - selection\n",
    "df[\"A\"]"
   ]
  },
  {
   "cell_type": "code",
   "execution_count": 63,
   "id": "6281d5d7",
   "metadata": {},
   "outputs": [
    {
     "data": {
      "text/html": [
       "<div>\n",
       "<style scoped>\n",
       "    .dataframe tbody tr th:only-of-type {\n",
       "        vertical-align: middle;\n",
       "    }\n",
       "\n",
       "    .dataframe tbody tr th {\n",
       "        vertical-align: top;\n",
       "    }\n",
       "\n",
       "    .dataframe thead th {\n",
       "        text-align: right;\n",
       "    }\n",
       "</style>\n",
       "<table border=\"1\" class=\"dataframe\">\n",
       "  <thead>\n",
       "    <tr style=\"text-align: right;\">\n",
       "      <th></th>\n",
       "      <th>A</th>\n",
       "      <th>B</th>\n",
       "      <th>C</th>\n",
       "      <th>D</th>\n",
       "    </tr>\n",
       "  </thead>\n",
       "  <tbody>\n",
       "    <tr>\n",
       "      <th>2022-01-01</th>\n",
       "      <td>-0.524479</td>\n",
       "      <td>-0.590006</td>\n",
       "      <td>0.182707</td>\n",
       "      <td>-1.239319</td>\n",
       "    </tr>\n",
       "    <tr>\n",
       "      <th>2022-01-02</th>\n",
       "      <td>0.350771</td>\n",
       "      <td>-2.595268</td>\n",
       "      <td>-1.671142</td>\n",
       "      <td>-1.359675</td>\n",
       "    </tr>\n",
       "  </tbody>\n",
       "</table>\n",
       "</div>"
      ],
      "text/plain": [
       "                   A         B         C         D\n",
       "2022-01-01 -0.524479 -0.590006  0.182707 -1.239319\n",
       "2022-01-02  0.350771 -2.595268 -1.671142 -1.359675"
      ]
     },
     "execution_count": 63,
     "metadata": {},
     "output_type": "execute_result"
    }
   ],
   "source": [
    "# row wise selection\n",
    "df[0:2]"
   ]
  },
  {
   "cell_type": "code",
   "execution_count": 64,
   "id": "3d973fdd",
   "metadata": {},
   "outputs": [
    {
     "data": {
      "text/html": [
       "<div>\n",
       "<style scoped>\n",
       "    .dataframe tbody tr th:only-of-type {\n",
       "        vertical-align: middle;\n",
       "    }\n",
       "\n",
       "    .dataframe tbody tr th {\n",
       "        vertical-align: top;\n",
       "    }\n",
       "\n",
       "    .dataframe thead th {\n",
       "        text-align: right;\n",
       "    }\n",
       "</style>\n",
       "<table border=\"1\" class=\"dataframe\">\n",
       "  <thead>\n",
       "    <tr style=\"text-align: right;\">\n",
       "      <th></th>\n",
       "      <th>A</th>\n",
       "      <th>B</th>\n",
       "      <th>C</th>\n",
       "      <th>D</th>\n",
       "    </tr>\n",
       "  </thead>\n",
       "  <tbody>\n",
       "    <tr>\n",
       "      <th>2022-01-01</th>\n",
       "      <td>-0.524479</td>\n",
       "      <td>-0.590006</td>\n",
       "      <td>0.182707</td>\n",
       "      <td>-1.239319</td>\n",
       "    </tr>\n",
       "  </tbody>\n",
       "</table>\n",
       "</div>"
      ],
      "text/plain": [
       "                   A         B         C         D\n",
       "2022-01-01 -0.524479 -0.590006  0.182707 -1.239319"
      ]
     },
     "execution_count": 64,
     "metadata": {},
     "output_type": "execute_result"
    }
   ],
   "source": [
    "df[0:1]"
   ]
  },
  {
   "cell_type": "code",
   "execution_count": 65,
   "id": "7737e8c1",
   "metadata": {},
   "outputs": [
    {
     "data": {
      "text/html": [
       "<div>\n",
       "<style scoped>\n",
       "    .dataframe tbody tr th:only-of-type {\n",
       "        vertical-align: middle;\n",
       "    }\n",
       "\n",
       "    .dataframe tbody tr th {\n",
       "        vertical-align: top;\n",
       "    }\n",
       "\n",
       "    .dataframe thead th {\n",
       "        text-align: right;\n",
       "    }\n",
       "</style>\n",
       "<table border=\"1\" class=\"dataframe\">\n",
       "  <thead>\n",
       "    <tr style=\"text-align: right;\">\n",
       "      <th></th>\n",
       "      <th>A</th>\n",
       "      <th>B</th>\n",
       "      <th>C</th>\n",
       "      <th>D</th>\n",
       "    </tr>\n",
       "  </thead>\n",
       "  <tbody>\n",
       "    <tr>\n",
       "      <th>2022-01-02</th>\n",
       "      <td>0.350771</td>\n",
       "      <td>-2.595268</td>\n",
       "      <td>-1.671142</td>\n",
       "      <td>-1.359675</td>\n",
       "    </tr>\n",
       "    <tr>\n",
       "      <th>2022-01-03</th>\n",
       "      <td>0.381263</td>\n",
       "      <td>0.833392</td>\n",
       "      <td>-0.411365</td>\n",
       "      <td>-0.960717</td>\n",
       "    </tr>\n",
       "    <tr>\n",
       "      <th>2022-01-04</th>\n",
       "      <td>-0.842862</td>\n",
       "      <td>1.386791</td>\n",
       "      <td>0.206450</td>\n",
       "      <td>0.029339</td>\n",
       "    </tr>\n",
       "    <tr>\n",
       "      <th>2022-01-05</th>\n",
       "      <td>0.717486</td>\n",
       "      <td>-0.319246</td>\n",
       "      <td>-0.636587</td>\n",
       "      <td>0.144066</td>\n",
       "    </tr>\n",
       "  </tbody>\n",
       "</table>\n",
       "</div>"
      ],
      "text/plain": [
       "                   A         B         C         D\n",
       "2022-01-02  0.350771 -2.595268 -1.671142 -1.359675\n",
       "2022-01-03  0.381263  0.833392 -0.411365 -0.960717\n",
       "2022-01-04 -0.842862  1.386791  0.206450  0.029339\n",
       "2022-01-05  0.717486 -0.319246 -0.636587  0.144066"
      ]
     },
     "execution_count": 65,
     "metadata": {},
     "output_type": "execute_result"
    }
   ],
   "source": [
    "df[1:5]"
   ]
  },
  {
   "cell_type": "code",
   "execution_count": 66,
   "id": "59b4f495",
   "metadata": {},
   "outputs": [
    {
     "data": {
      "text/plain": [
       "A   -0.524479\n",
       "B   -0.590006\n",
       "C    0.182707\n",
       "D   -1.239319\n",
       "Name: 2022-01-01 00:00:00, dtype: float64"
      ]
     },
     "execution_count": 66,
     "metadata": {},
     "output_type": "execute_result"
    }
   ],
   "source": [
    "# row wise\n",
    "df.loc[dates[0]]"
   ]
  },
  {
   "cell_type": "code",
   "execution_count": 67,
   "id": "0f9533f2",
   "metadata": {},
   "outputs": [
    {
     "data": {
      "text/html": [
       "<div>\n",
       "<style scoped>\n",
       "    .dataframe tbody tr th:only-of-type {\n",
       "        vertical-align: middle;\n",
       "    }\n",
       "\n",
       "    .dataframe tbody tr th {\n",
       "        vertical-align: top;\n",
       "    }\n",
       "\n",
       "    .dataframe thead th {\n",
       "        text-align: right;\n",
       "    }\n",
       "</style>\n",
       "<table border=\"1\" class=\"dataframe\">\n",
       "  <thead>\n",
       "    <tr style=\"text-align: right;\">\n",
       "      <th></th>\n",
       "      <th>A</th>\n",
       "      <th>B</th>\n",
       "    </tr>\n",
       "  </thead>\n",
       "  <tbody>\n",
       "    <tr>\n",
       "      <th>2022-01-01</th>\n",
       "      <td>-0.524479</td>\n",
       "      <td>-0.590006</td>\n",
       "    </tr>\n",
       "    <tr>\n",
       "      <th>2022-01-02</th>\n",
       "      <td>0.350771</td>\n",
       "      <td>-2.595268</td>\n",
       "    </tr>\n",
       "    <tr>\n",
       "      <th>2022-01-03</th>\n",
       "      <td>0.381263</td>\n",
       "      <td>0.833392</td>\n",
       "    </tr>\n",
       "    <tr>\n",
       "      <th>2022-01-04</th>\n",
       "      <td>-0.842862</td>\n",
       "      <td>1.386791</td>\n",
       "    </tr>\n",
       "    <tr>\n",
       "      <th>2022-01-05</th>\n",
       "      <td>0.717486</td>\n",
       "      <td>-0.319246</td>\n",
       "    </tr>\n",
       "    <tr>\n",
       "      <th>2022-01-06</th>\n",
       "      <td>-1.072817</td>\n",
       "      <td>-0.430672</td>\n",
       "    </tr>\n",
       "  </tbody>\n",
       "</table>\n",
       "</div>"
      ],
      "text/plain": [
       "                   A         B\n",
       "2022-01-01 -0.524479 -0.590006\n",
       "2022-01-02  0.350771 -2.595268\n",
       "2022-01-03  0.381263  0.833392\n",
       "2022-01-04 -0.842862  1.386791\n",
       "2022-01-05  0.717486 -0.319246\n",
       "2022-01-06 -1.072817 -0.430672"
      ]
     },
     "execution_count": 67,
     "metadata": {},
     "output_type": "execute_result"
    }
   ],
   "source": [
    "# coloumn wise\n",
    "df.loc[:, [\"A\", \"B\"]]"
   ]
  },
  {
   "cell_type": "code",
   "execution_count": 68,
   "id": "7786090e",
   "metadata": {},
   "outputs": [
    {
     "data": {
      "text/html": [
       "<div>\n",
       "<style scoped>\n",
       "    .dataframe tbody tr th:only-of-type {\n",
       "        vertical-align: middle;\n",
       "    }\n",
       "\n",
       "    .dataframe tbody tr th {\n",
       "        vertical-align: top;\n",
       "    }\n",
       "\n",
       "    .dataframe thead th {\n",
       "        text-align: right;\n",
       "    }\n",
       "</style>\n",
       "<table border=\"1\" class=\"dataframe\">\n",
       "  <thead>\n",
       "    <tr style=\"text-align: right;\">\n",
       "      <th></th>\n",
       "      <th>A</th>\n",
       "      <th>B</th>\n",
       "    </tr>\n",
       "  </thead>\n",
       "  <tbody>\n",
       "    <tr>\n",
       "      <th>2022-01-02</th>\n",
       "      <td>0.350771</td>\n",
       "      <td>-2.595268</td>\n",
       "    </tr>\n",
       "    <tr>\n",
       "      <th>2022-01-03</th>\n",
       "      <td>0.381263</td>\n",
       "      <td>0.833392</td>\n",
       "    </tr>\n",
       "    <tr>\n",
       "      <th>2022-01-04</th>\n",
       "      <td>-0.842862</td>\n",
       "      <td>1.386791</td>\n",
       "    </tr>\n",
       "  </tbody>\n",
       "</table>\n",
       "</div>"
      ],
      "text/plain": [
       "                   A         B\n",
       "2022-01-02  0.350771 -2.595268\n",
       "2022-01-03  0.381263  0.833392\n",
       "2022-01-04 -0.842862  1.386791"
      ]
     },
     "execution_count": 68,
     "metadata": {},
     "output_type": "execute_result"
    }
   ],
   "source": [
    "df.loc[\"2022-01-02\":\"2022-01-04\", [\"A\", \"B\"]]"
   ]
  },
  {
   "cell_type": "code",
   "execution_count": 69,
   "id": "fef5b83b",
   "metadata": {},
   "outputs": [
    {
     "data": {
      "text/plain": [
       "A    0.350771\n",
       "B   -2.595268\n",
       "C   -1.671142\n",
       "Name: 2022-01-02 00:00:00, dtype: float64"
      ]
     },
     "execution_count": 69,
     "metadata": {},
     "output_type": "execute_result"
    }
   ],
   "source": [
    "df.loc[\"2022-01-02\", [\"A\", \"B\", \"C\"]]"
   ]
  },
  {
   "cell_type": "code",
   "execution_count": 70,
   "id": "b630c994",
   "metadata": {},
   "outputs": [
    {
     "data": {
      "text/plain": [
       "0.7174863124346677"
      ]
     },
     "execution_count": 70,
     "metadata": {},
     "output_type": "execute_result"
    }
   ],
   "source": [
    "df.at[dates[4], \"A\"]"
   ]
  },
  {
   "cell_type": "code",
   "execution_count": 71,
   "id": "1ebf3052",
   "metadata": {},
   "outputs": [
    {
     "data": {
      "text/plain": [
       "A   -0.842862\n",
       "B    1.386791\n",
       "C    0.206450\n",
       "D    0.029339\n",
       "Name: 2022-01-04 00:00:00, dtype: float64"
      ]
     },
     "execution_count": 71,
     "metadata": {},
     "output_type": "execute_result"
    }
   ],
   "source": [
    "# what is at specific position positionwise\n",
    "df.iloc[3]"
   ]
  },
  {
   "cell_type": "code",
   "execution_count": 72,
   "id": "d7910a4a",
   "metadata": {},
   "outputs": [
    {
     "data": {
      "text/html": [
       "<div>\n",
       "<style scoped>\n",
       "    .dataframe tbody tr th:only-of-type {\n",
       "        vertical-align: middle;\n",
       "    }\n",
       "\n",
       "    .dataframe tbody tr th {\n",
       "        vertical-align: top;\n",
       "    }\n",
       "\n",
       "    .dataframe thead th {\n",
       "        text-align: right;\n",
       "    }\n",
       "</style>\n",
       "<table border=\"1\" class=\"dataframe\">\n",
       "  <thead>\n",
       "    <tr style=\"text-align: right;\">\n",
       "      <th></th>\n",
       "      <th>A</th>\n",
       "      <th>B</th>\n",
       "      <th>C</th>\n",
       "      <th>D</th>\n",
       "    </tr>\n",
       "  </thead>\n",
       "  <tbody>\n",
       "    <tr>\n",
       "      <th>2022-01-04</th>\n",
       "      <td>-0.842862</td>\n",
       "      <td>1.386791</td>\n",
       "      <td>0.206450</td>\n",
       "      <td>0.029339</td>\n",
       "    </tr>\n",
       "    <tr>\n",
       "      <th>2022-01-05</th>\n",
       "      <td>0.717486</td>\n",
       "      <td>-0.319246</td>\n",
       "      <td>-0.636587</td>\n",
       "      <td>0.144066</td>\n",
       "    </tr>\n",
       "    <tr>\n",
       "      <th>2022-01-06</th>\n",
       "      <td>-1.072817</td>\n",
       "      <td>-0.430672</td>\n",
       "      <td>0.647343</td>\n",
       "      <td>2.160436</td>\n",
       "    </tr>\n",
       "  </tbody>\n",
       "</table>\n",
       "</div>"
      ],
      "text/plain": [
       "                   A         B         C         D\n",
       "2022-01-04 -0.842862  1.386791  0.206450  0.029339\n",
       "2022-01-05  0.717486 -0.319246 -0.636587  0.144066\n",
       "2022-01-06 -1.072817 -0.430672  0.647343  2.160436"
      ]
     },
     "execution_count": 72,
     "metadata": {},
     "output_type": "execute_result"
    }
   ],
   "source": [
    "df.iloc[3:10]"
   ]
  },
  {
   "cell_type": "code",
   "execution_count": 73,
   "id": "d8fa1a1d",
   "metadata": {},
   "outputs": [
    {
     "data": {
      "text/html": [
       "<div>\n",
       "<style scoped>\n",
       "    .dataframe tbody tr th:only-of-type {\n",
       "        vertical-align: middle;\n",
       "    }\n",
       "\n",
       "    .dataframe tbody tr th {\n",
       "        vertical-align: top;\n",
       "    }\n",
       "\n",
       "    .dataframe thead th {\n",
       "        text-align: right;\n",
       "    }\n",
       "</style>\n",
       "<table border=\"1\" class=\"dataframe\">\n",
       "  <thead>\n",
       "    <tr style=\"text-align: right;\">\n",
       "      <th></th>\n",
       "      <th>A</th>\n",
       "      <th>B</th>\n",
       "      <th>C</th>\n",
       "    </tr>\n",
       "  </thead>\n",
       "  <tbody>\n",
       "    <tr>\n",
       "      <th>2022-01-01</th>\n",
       "      <td>-0.524479</td>\n",
       "      <td>-0.590006</td>\n",
       "      <td>0.182707</td>\n",
       "    </tr>\n",
       "    <tr>\n",
       "      <th>2022-01-02</th>\n",
       "      <td>0.350771</td>\n",
       "      <td>-2.595268</td>\n",
       "      <td>-1.671142</td>\n",
       "    </tr>\n",
       "  </tbody>\n",
       "</table>\n",
       "</div>"
      ],
      "text/plain": [
       "                   A         B         C\n",
       "2022-01-01 -0.524479 -0.590006  0.182707\n",
       "2022-01-02  0.350771 -2.595268 -1.671142"
      ]
     },
     "execution_count": 73,
     "metadata": {},
     "output_type": "execute_result"
    }
   ],
   "source": [
    "df.iloc[0:2, 0:3]"
   ]
  },
  {
   "cell_type": "code",
   "execution_count": 74,
   "id": "7df0ee07",
   "metadata": {},
   "outputs": [
    {
     "data": {
      "text/html": [
       "<div>\n",
       "<style scoped>\n",
       "    .dataframe tbody tr th:only-of-type {\n",
       "        vertical-align: middle;\n",
       "    }\n",
       "\n",
       "    .dataframe tbody tr th {\n",
       "        vertical-align: top;\n",
       "    }\n",
       "\n",
       "    .dataframe thead th {\n",
       "        text-align: right;\n",
       "    }\n",
       "</style>\n",
       "<table border=\"1\" class=\"dataframe\">\n",
       "  <thead>\n",
       "    <tr style=\"text-align: right;\">\n",
       "      <th></th>\n",
       "      <th>A</th>\n",
       "      <th>B</th>\n",
       "      <th>C</th>\n",
       "      <th>D</th>\n",
       "    </tr>\n",
       "  </thead>\n",
       "  <tbody>\n",
       "    <tr>\n",
       "      <th>2022-01-01</th>\n",
       "      <td>-0.524479</td>\n",
       "      <td>-0.590006</td>\n",
       "      <td>0.182707</td>\n",
       "      <td>-1.239319</td>\n",
       "    </tr>\n",
       "    <tr>\n",
       "      <th>2022-01-02</th>\n",
       "      <td>0.350771</td>\n",
       "      <td>-2.595268</td>\n",
       "      <td>-1.671142</td>\n",
       "      <td>-1.359675</td>\n",
       "    </tr>\n",
       "    <tr>\n",
       "      <th>2022-01-03</th>\n",
       "      <td>0.381263</td>\n",
       "      <td>0.833392</td>\n",
       "      <td>-0.411365</td>\n",
       "      <td>-0.960717</td>\n",
       "    </tr>\n",
       "    <tr>\n",
       "      <th>2022-01-04</th>\n",
       "      <td>-0.842862</td>\n",
       "      <td>1.386791</td>\n",
       "      <td>0.206450</td>\n",
       "      <td>0.029339</td>\n",
       "    </tr>\n",
       "  </tbody>\n",
       "</table>\n",
       "</div>"
      ],
      "text/plain": [
       "                   A         B         C         D\n",
       "2022-01-01 -0.524479 -0.590006  0.182707 -1.239319\n",
       "2022-01-02  0.350771 -2.595268 -1.671142 -1.359675\n",
       "2022-01-03  0.381263  0.833392 -0.411365 -0.960717\n",
       "2022-01-04 -0.842862  1.386791  0.206450  0.029339"
      ]
     },
     "execution_count": 74,
     "metadata": {},
     "output_type": "execute_result"
    }
   ],
   "source": [
    "df.iloc[0:4, :]"
   ]
  },
  {
   "cell_type": "code",
   "execution_count": 75,
   "id": "45416ad2",
   "metadata": {},
   "outputs": [
    {
     "data": {
      "text/html": [
       "<div>\n",
       "<style scoped>\n",
       "    .dataframe tbody tr th:only-of-type {\n",
       "        vertical-align: middle;\n",
       "    }\n",
       "\n",
       "    .dataframe tbody tr th {\n",
       "        vertical-align: top;\n",
       "    }\n",
       "\n",
       "    .dataframe thead th {\n",
       "        text-align: right;\n",
       "    }\n",
       "</style>\n",
       "<table border=\"1\" class=\"dataframe\">\n",
       "  <thead>\n",
       "    <tr style=\"text-align: right;\">\n",
       "      <th></th>\n",
       "      <th>A</th>\n",
       "      <th>B</th>\n",
       "    </tr>\n",
       "  </thead>\n",
       "  <tbody>\n",
       "    <tr>\n",
       "      <th>2022-01-01</th>\n",
       "      <td>-0.524479</td>\n",
       "      <td>-0.590006</td>\n",
       "    </tr>\n",
       "    <tr>\n",
       "      <th>2022-01-02</th>\n",
       "      <td>0.350771</td>\n",
       "      <td>-2.595268</td>\n",
       "    </tr>\n",
       "    <tr>\n",
       "      <th>2022-01-03</th>\n",
       "      <td>0.381263</td>\n",
       "      <td>0.833392</td>\n",
       "    </tr>\n",
       "    <tr>\n",
       "      <th>2022-01-04</th>\n",
       "      <td>-0.842862</td>\n",
       "      <td>1.386791</td>\n",
       "    </tr>\n",
       "    <tr>\n",
       "      <th>2022-01-05</th>\n",
       "      <td>0.717486</td>\n",
       "      <td>-0.319246</td>\n",
       "    </tr>\n",
       "    <tr>\n",
       "      <th>2022-01-06</th>\n",
       "      <td>-1.072817</td>\n",
       "      <td>-0.430672</td>\n",
       "    </tr>\n",
       "  </tbody>\n",
       "</table>\n",
       "</div>"
      ],
      "text/plain": [
       "                   A         B\n",
       "2022-01-01 -0.524479 -0.590006\n",
       "2022-01-02  0.350771 -2.595268\n",
       "2022-01-03  0.381263  0.833392\n",
       "2022-01-04 -0.842862  1.386791\n",
       "2022-01-05  0.717486 -0.319246\n",
       "2022-01-06 -1.072817 -0.430672"
      ]
     },
     "execution_count": 75,
     "metadata": {},
     "output_type": "execute_result"
    }
   ],
   "source": [
    "df.iloc[:, 0:2]"
   ]
  },
  {
   "cell_type": "code",
   "execution_count": 76,
   "id": "447d4a7b",
   "metadata": {},
   "outputs": [
    {
     "data": {
      "text/html": [
       "<div>\n",
       "<style scoped>\n",
       "    .dataframe tbody tr th:only-of-type {\n",
       "        vertical-align: middle;\n",
       "    }\n",
       "\n",
       "    .dataframe tbody tr th {\n",
       "        vertical-align: top;\n",
       "    }\n",
       "\n",
       "    .dataframe thead th {\n",
       "        text-align: right;\n",
       "    }\n",
       "</style>\n",
       "<table border=\"1\" class=\"dataframe\">\n",
       "  <thead>\n",
       "    <tr style=\"text-align: right;\">\n",
       "      <th></th>\n",
       "      <th>A</th>\n",
       "      <th>B</th>\n",
       "      <th>C</th>\n",
       "      <th>D</th>\n",
       "    </tr>\n",
       "  </thead>\n",
       "  <tbody>\n",
       "    <tr>\n",
       "      <th>2022-01-02</th>\n",
       "      <td>0.350771</td>\n",
       "      <td>-2.595268</td>\n",
       "      <td>-1.671142</td>\n",
       "      <td>-1.359675</td>\n",
       "    </tr>\n",
       "    <tr>\n",
       "      <th>2022-01-03</th>\n",
       "      <td>0.381263</td>\n",
       "      <td>0.833392</td>\n",
       "      <td>-0.411365</td>\n",
       "      <td>-0.960717</td>\n",
       "    </tr>\n",
       "    <tr>\n",
       "      <th>2022-01-05</th>\n",
       "      <td>0.717486</td>\n",
       "      <td>-0.319246</td>\n",
       "      <td>-0.636587</td>\n",
       "      <td>0.144066</td>\n",
       "    </tr>\n",
       "  </tbody>\n",
       "</table>\n",
       "</div>"
      ],
      "text/plain": [
       "                   A         B         C         D\n",
       "2022-01-02  0.350771 -2.595268 -1.671142 -1.359675\n",
       "2022-01-03  0.381263  0.833392 -0.411365 -0.960717\n",
       "2022-01-05  0.717486 -0.319246 -0.636587  0.144066"
      ]
     },
     "execution_count": 76,
     "metadata": {},
     "output_type": "execute_result"
    }
   ],
   "source": [
    "# to find value more or less than specific value\n",
    "df[df[\"A\"] > 0]"
   ]
  },
  {
   "cell_type": "code",
   "execution_count": 77,
   "id": "8818a95a",
   "metadata": {},
   "outputs": [
    {
     "data": {
      "text/html": [
       "<div>\n",
       "<style scoped>\n",
       "    .dataframe tbody tr th:only-of-type {\n",
       "        vertical-align: middle;\n",
       "    }\n",
       "\n",
       "    .dataframe tbody tr th {\n",
       "        vertical-align: top;\n",
       "    }\n",
       "\n",
       "    .dataframe thead th {\n",
       "        text-align: right;\n",
       "    }\n",
       "</style>\n",
       "<table border=\"1\" class=\"dataframe\">\n",
       "  <thead>\n",
       "    <tr style=\"text-align: right;\">\n",
       "      <th></th>\n",
       "      <th>A</th>\n",
       "      <th>B</th>\n",
       "      <th>C</th>\n",
       "      <th>D</th>\n",
       "    </tr>\n",
       "  </thead>\n",
       "  <tbody>\n",
       "    <tr>\n",
       "      <th>2022-01-01</th>\n",
       "      <td>-0.524479</td>\n",
       "      <td>-0.590006</td>\n",
       "      <td>NaN</td>\n",
       "      <td>-1.239319</td>\n",
       "    </tr>\n",
       "    <tr>\n",
       "      <th>2022-01-02</th>\n",
       "      <td>NaN</td>\n",
       "      <td>-2.595268</td>\n",
       "      <td>-1.671142</td>\n",
       "      <td>-1.359675</td>\n",
       "    </tr>\n",
       "    <tr>\n",
       "      <th>2022-01-03</th>\n",
       "      <td>NaN</td>\n",
       "      <td>NaN</td>\n",
       "      <td>-0.411365</td>\n",
       "      <td>-0.960717</td>\n",
       "    </tr>\n",
       "    <tr>\n",
       "      <th>2022-01-04</th>\n",
       "      <td>-0.842862</td>\n",
       "      <td>NaN</td>\n",
       "      <td>NaN</td>\n",
       "      <td>NaN</td>\n",
       "    </tr>\n",
       "    <tr>\n",
       "      <th>2022-01-05</th>\n",
       "      <td>NaN</td>\n",
       "      <td>-0.319246</td>\n",
       "      <td>-0.636587</td>\n",
       "      <td>NaN</td>\n",
       "    </tr>\n",
       "    <tr>\n",
       "      <th>2022-01-06</th>\n",
       "      <td>-1.072817</td>\n",
       "      <td>-0.430672</td>\n",
       "      <td>NaN</td>\n",
       "      <td>NaN</td>\n",
       "    </tr>\n",
       "  </tbody>\n",
       "</table>\n",
       "</div>"
      ],
      "text/plain": [
       "                   A         B         C         D\n",
       "2022-01-01 -0.524479 -0.590006       NaN -1.239319\n",
       "2022-01-02       NaN -2.595268 -1.671142 -1.359675\n",
       "2022-01-03       NaN       NaN -0.411365 -0.960717\n",
       "2022-01-04 -0.842862       NaN       NaN       NaN\n",
       "2022-01-05       NaN -0.319246 -0.636587       NaN\n",
       "2022-01-06 -1.072817 -0.430672       NaN       NaN"
      ]
     },
     "execution_count": 77,
     "metadata": {},
     "output_type": "execute_result"
    }
   ],
   "source": [
    "df[df< 0]"
   ]
  },
  {
   "cell_type": "code",
   "execution_count": 78,
   "id": "b62ab7db",
   "metadata": {},
   "outputs": [
    {
     "data": {
      "text/html": [
       "<div>\n",
       "<style scoped>\n",
       "    .dataframe tbody tr th:only-of-type {\n",
       "        vertical-align: middle;\n",
       "    }\n",
       "\n",
       "    .dataframe tbody tr th {\n",
       "        vertical-align: top;\n",
       "    }\n",
       "\n",
       "    .dataframe thead th {\n",
       "        text-align: right;\n",
       "    }\n",
       "</style>\n",
       "<table border=\"1\" class=\"dataframe\">\n",
       "  <thead>\n",
       "    <tr style=\"text-align: right;\">\n",
       "      <th></th>\n",
       "      <th>A</th>\n",
       "      <th>B</th>\n",
       "      <th>C</th>\n",
       "      <th>D</th>\n",
       "      <th>E</th>\n",
       "    </tr>\n",
       "  </thead>\n",
       "  <tbody>\n",
       "    <tr>\n",
       "      <th>2022-01-01</th>\n",
       "      <td>-0.524479</td>\n",
       "      <td>-0.590006</td>\n",
       "      <td>0.182707</td>\n",
       "      <td>-1.239319</td>\n",
       "      <td>one</td>\n",
       "    </tr>\n",
       "    <tr>\n",
       "      <th>2022-01-02</th>\n",
       "      <td>0.350771</td>\n",
       "      <td>-2.595268</td>\n",
       "      <td>-1.671142</td>\n",
       "      <td>-1.359675</td>\n",
       "      <td>two</td>\n",
       "    </tr>\n",
       "    <tr>\n",
       "      <th>2022-01-03</th>\n",
       "      <td>0.381263</td>\n",
       "      <td>0.833392</td>\n",
       "      <td>-0.411365</td>\n",
       "      <td>-0.960717</td>\n",
       "      <td>three</td>\n",
       "    </tr>\n",
       "    <tr>\n",
       "      <th>2022-01-04</th>\n",
       "      <td>-0.842862</td>\n",
       "      <td>1.386791</td>\n",
       "      <td>0.206450</td>\n",
       "      <td>0.029339</td>\n",
       "      <td>four</td>\n",
       "    </tr>\n",
       "    <tr>\n",
       "      <th>2022-01-05</th>\n",
       "      <td>0.717486</td>\n",
       "      <td>-0.319246</td>\n",
       "      <td>-0.636587</td>\n",
       "      <td>0.144066</td>\n",
       "      <td>three</td>\n",
       "    </tr>\n",
       "    <tr>\n",
       "      <th>2022-01-06</th>\n",
       "      <td>-1.072817</td>\n",
       "      <td>-0.430672</td>\n",
       "      <td>0.647343</td>\n",
       "      <td>2.160436</td>\n",
       "      <td>one</td>\n",
       "    </tr>\n",
       "  </tbody>\n",
       "</table>\n",
       "</div>"
      ],
      "text/plain": [
       "                   A         B         C         D      E\n",
       "2022-01-01 -0.524479 -0.590006  0.182707 -1.239319    one\n",
       "2022-01-02  0.350771 -2.595268 -1.671142 -1.359675    two\n",
       "2022-01-03  0.381263  0.833392 -0.411365 -0.960717  three\n",
       "2022-01-04 -0.842862  1.386791  0.206450  0.029339   four\n",
       "2022-01-05  0.717486 -0.319246 -0.636587  0.144066  three\n",
       "2022-01-06 -1.072817 -0.430672  0.647343  2.160436    one"
      ]
     },
     "execution_count": 78,
     "metadata": {},
     "output_type": "execute_result"
    }
   ],
   "source": [
    "df2 =df.copy()\n",
    "df2[\"E\"]=[\"one\", \"two\",\"three\",\"four\",\"three\", \"one\"]\n",
    "df2"
   ]
  },
  {
   "cell_type": "code",
   "execution_count": 80,
   "id": "67c323cc",
   "metadata": {},
   "outputs": [
    {
     "data": {
      "text/html": [
       "<div>\n",
       "<style scoped>\n",
       "    .dataframe tbody tr th:only-of-type {\n",
       "        vertical-align: middle;\n",
       "    }\n",
       "\n",
       "    .dataframe tbody tr th {\n",
       "        vertical-align: top;\n",
       "    }\n",
       "\n",
       "    .dataframe thead th {\n",
       "        text-align: right;\n",
       "    }\n",
       "</style>\n",
       "<table border=\"1\" class=\"dataframe\">\n",
       "  <thead>\n",
       "    <tr style=\"text-align: right;\">\n",
       "      <th></th>\n",
       "      <th>A</th>\n",
       "      <th>B</th>\n",
       "      <th>C</th>\n",
       "    </tr>\n",
       "  </thead>\n",
       "  <tbody>\n",
       "    <tr>\n",
       "      <th>2022-01-01</th>\n",
       "      <td>-0.524479</td>\n",
       "      <td>-0.590006</td>\n",
       "      <td>0.182707</td>\n",
       "    </tr>\n",
       "    <tr>\n",
       "      <th>2022-01-02</th>\n",
       "      <td>0.350771</td>\n",
       "      <td>-2.595268</td>\n",
       "      <td>-1.671142</td>\n",
       "    </tr>\n",
       "    <tr>\n",
       "      <th>2022-01-03</th>\n",
       "      <td>0.381263</td>\n",
       "      <td>0.833392</td>\n",
       "      <td>-0.411365</td>\n",
       "    </tr>\n",
       "    <tr>\n",
       "      <th>2022-01-04</th>\n",
       "      <td>-0.842862</td>\n",
       "      <td>1.386791</td>\n",
       "      <td>0.206450</td>\n",
       "    </tr>\n",
       "    <tr>\n",
       "      <th>2022-01-05</th>\n",
       "      <td>0.717486</td>\n",
       "      <td>-0.319246</td>\n",
       "      <td>-0.636587</td>\n",
       "    </tr>\n",
       "    <tr>\n",
       "      <th>2022-01-06</th>\n",
       "      <td>-1.072817</td>\n",
       "      <td>-0.430672</td>\n",
       "      <td>0.647343</td>\n",
       "    </tr>\n",
       "  </tbody>\n",
       "</table>\n",
       "</div>"
      ],
      "text/plain": [
       "                   A         B         C\n",
       "2022-01-01 -0.524479 -0.590006  0.182707\n",
       "2022-01-02  0.350771 -2.595268 -1.671142\n",
       "2022-01-03  0.381263  0.833392 -0.411365\n",
       "2022-01-04 -0.842862  1.386791  0.206450\n",
       "2022-01-05  0.717486 -0.319246 -0.636587\n",
       "2022-01-06 -1.072817 -0.430672  0.647343"
      ]
     },
     "execution_count": 80,
     "metadata": {},
     "output_type": "execute_result"
    }
   ],
   "source": [
    "df2[\"new\"]=[1.2,2.2,3.2,4.2,5.2,6.2]\n",
    "df2\n",
    "df2= df2.iloc[:, 0:3]\n",
    "df2"
   ]
  }
 ],
 "metadata": {
  "kernelspec": {
   "display_name": "Python 3 (ipykernel)",
   "language": "python",
   "name": "python3"
  },
  "language_info": {
   "codemirror_mode": {
    "name": "ipython",
    "version": 3
   },
   "file_extension": ".py",
   "mimetype": "text/x-python",
   "name": "python",
   "nbconvert_exporter": "python",
   "pygments_lexer": "ipython3",
   "version": "3.10.1"
  }
 },
 "nbformat": 4,
 "nbformat_minor": 5
}
